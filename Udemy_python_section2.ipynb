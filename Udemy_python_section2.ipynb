{
 "cells": [
  {
   "cell_type": "markdown",
   "id": "31e6393a",
   "metadata": {},
   "source": [
    "# Data types"
   ]
  },
  {
   "cell_type": "markdown",
   "id": "eee640ab",
   "metadata": {},
   "source": [
    "## string"
   ]
  },
  {
   "cell_type": "markdown",
   "id": "a67aea61",
   "metadata": {},
   "source": [
    "Sub-script : 문자열에서 특정 요소를 추출하는 방법(ex. data[0])"
   ]
  },
  {
   "cell_type": "code",
   "execution_count": 3,
   "id": "67ed21aa",
   "metadata": {
    "ExecuteTime": {
     "end_time": "2023-07-18T06:29:52.399443Z",
     "start_time": "2023-07-18T06:29:52.393161Z"
    }
   },
   "outputs": [
    {
     "name": "stdout",
     "output_type": "stream",
     "text": [
      "H\n"
     ]
    }
   ],
   "source": [
    "# 첫 글자\n",
    "print(\"Hello\"[0])"
   ]
  },
  {
   "cell_type": "code",
   "execution_count": 4,
   "id": "c37d0aab",
   "metadata": {
    "ExecuteTime": {
     "end_time": "2023-07-18T06:33:20.162694Z",
     "start_time": "2023-07-18T06:33:20.158021Z"
    }
   },
   "outputs": [
    {
     "name": "stdout",
     "output_type": "stream",
     "text": [
      "o\n"
     ]
    }
   ],
   "source": [
    "# 마지막 글자\n",
    "print(\"Hello\"[4])"
   ]
  },
  {
   "cell_type": "code",
   "execution_count": 7,
   "id": "ec52b801",
   "metadata": {
    "ExecuteTime": {
     "end_time": "2023-07-18T06:35:36.722154Z",
     "start_time": "2023-07-18T06:35:36.715278Z"
    }
   },
   "outputs": [
    {
     "data": {
      "text/plain": [
       "'123345'"
      ]
     },
     "execution_count": 7,
     "metadata": {},
     "output_type": "execute_result"
    }
   ],
   "source": [
    "\"123\" + \"345\""
   ]
  },
  {
   "cell_type": "code",
   "execution_count": 8,
   "id": "df44d532",
   "metadata": {
    "ExecuteTime": {
     "end_time": "2023-07-18T06:35:57.559416Z",
     "start_time": "2023-07-18T06:35:57.542824Z"
    }
   },
   "outputs": [
    {
     "data": {
      "text/plain": [
       "'213Hello'"
      ]
     },
     "execution_count": 8,
     "metadata": {},
     "output_type": "execute_result"
    }
   ],
   "source": [
    "\"213\" + \"Hello\""
   ]
  },
  {
   "cell_type": "markdown",
   "id": "514f3211",
   "metadata": {},
   "source": [
    "## Integer"
   ]
  },
  {
   "cell_type": "code",
   "execution_count": 9,
   "id": "d78f3b03",
   "metadata": {
    "ExecuteTime": {
     "end_time": "2023-07-18T06:36:31.417092Z",
     "start_time": "2023-07-18T06:36:31.411408Z"
    }
   },
   "outputs": [
    {
     "name": "stdout",
     "output_type": "stream",
     "text": [
      "468\n"
     ]
    }
   ],
   "source": [
    "print(123+345)"
   ]
  },
  {
   "cell_type": "code",
   "execution_count": 10,
   "id": "7a83ce4b",
   "metadata": {
    "ExecuteTime": {
     "end_time": "2023-07-18T06:37:03.770976Z",
     "start_time": "2023-07-18T06:37:03.764647Z"
    }
   },
   "outputs": [
    {
     "data": {
      "text/plain": [
       "123456789"
      ]
     },
     "execution_count": 10,
     "metadata": {},
     "output_type": "execute_result"
    }
   ],
   "source": [
    "# 123,456,789\n",
    "123_456_789"
   ]
  },
  {
   "cell_type": "markdown",
   "id": "6df6d333",
   "metadata": {},
   "source": [
    "## Float"
   ]
  },
  {
   "cell_type": "code",
   "execution_count": null,
   "id": "0dd4b63c",
   "metadata": {},
   "outputs": [],
   "source": [
    "3.14159"
   ]
  },
  {
   "cell_type": "markdown",
   "id": "6a276ebf",
   "metadata": {},
   "source": [
    "## Boolean\n",
    "- 부울값은 큰따옴표를 사용하지 않음"
   ]
  },
  {
   "cell_type": "code",
   "execution_count": 11,
   "id": "bcde244d",
   "metadata": {
    "ExecuteTime": {
     "end_time": "2023-07-18T06:44:08.655902Z",
     "start_time": "2023-07-18T06:44:08.648154Z"
    }
   },
   "outputs": [
    {
     "data": {
      "text/plain": [
       "True"
      ]
     },
     "execution_count": 11,
     "metadata": {},
     "output_type": "execute_result"
    }
   ],
   "source": [
    "True"
   ]
  },
  {
   "cell_type": "code",
   "execution_count": 12,
   "id": "c1fb118a",
   "metadata": {
    "ExecuteTime": {
     "end_time": "2023-07-18T06:44:12.245196Z",
     "start_time": "2023-07-18T06:44:12.236224Z"
    }
   },
   "outputs": [
    {
     "data": {
      "text/plain": [
       "False"
      ]
     },
     "execution_count": 12,
     "metadata": {},
     "output_type": "execute_result"
    }
   ],
   "source": [
    "False"
   ]
  },
  {
   "cell_type": "code",
   "execution_count": 21,
   "id": "493fd17f",
   "metadata": {
    "ExecuteTime": {
     "end_time": "2023-07-18T06:49:50.560201Z",
     "start_time": "2023-07-18T06:49:48.307998Z"
    }
   },
   "outputs": [
    {
     "name": "stdout",
     "output_type": "stream",
     "text": [
      "What is your name?Peter\n"
     ]
    },
    {
     "ename": "TypeError",
     "evalue": "can only concatenate str (not \"int\") to str",
     "output_type": "error",
     "traceback": [
      "\u001b[0;31m---------------------------------------------------------------------------\u001b[0m",
      "\u001b[0;31mTypeError\u001b[0m                                 Traceback (most recent call last)",
      "\u001b[0;32m/var/folders/9t/s4kfwbj54wj1sw01v7vtb68h0000gn/T/ipykernel_28487/4222497905.py\u001b[0m in \u001b[0;36m<module>\u001b[0;34m\u001b[0m\n\u001b[1;32m      1\u001b[0m \u001b[0;31m# 문자열에 정수형을 연결하면 해결 가능\u001b[0m\u001b[0;34m\u001b[0m\u001b[0;34m\u001b[0m\u001b[0m\n\u001b[1;32m      2\u001b[0m \u001b[0mnum_char\u001b[0m \u001b[0;34m=\u001b[0m \u001b[0mlen\u001b[0m\u001b[0;34m(\u001b[0m\u001b[0minput\u001b[0m\u001b[0;34m(\u001b[0m\u001b[0;34m\"What is your name?\"\u001b[0m\u001b[0;34m)\u001b[0m\u001b[0;34m)\u001b[0m\u001b[0;34m\u001b[0m\u001b[0;34m\u001b[0m\u001b[0m\n\u001b[0;32m----> 3\u001b[0;31m \u001b[0mprint\u001b[0m\u001b[0;34m(\u001b[0m\u001b[0;34m\"Your name has \"\u001b[0m \u001b[0;34m+\u001b[0m \u001b[0mnum_char\u001b[0m \u001b[0;34m+\u001b[0m \u001b[0;34m\" Characters.\"\u001b[0m\u001b[0;34m)\u001b[0m\u001b[0;34m\u001b[0m\u001b[0;34m\u001b[0m\u001b[0m\n\u001b[0m",
      "\u001b[0;31mTypeError\u001b[0m: can only concatenate str (not \"int\") to str"
     ]
    }
   ],
   "source": [
    "# 문자열에 정수형을 추가하는 것은 불가\n",
    "num_char = len(input(\"What is your name?\"))\n",
    "print(\"Your name has \" + num_char + \" Characters.\")"
   ]
  },
  {
   "cell_type": "code",
   "execution_count": 22,
   "id": "8fa5c0ef",
   "metadata": {
    "ExecuteTime": {
     "end_time": "2023-07-18T06:50:00.869064Z",
     "start_time": "2023-07-18T06:50:00.864747Z"
    }
   },
   "outputs": [
    {
     "name": "stdout",
     "output_type": "stream",
     "text": [
      "<class 'int'>\n"
     ]
    }
   ],
   "source": [
    "print(type(num_char))"
   ]
  },
  {
   "cell_type": "code",
   "execution_count": 24,
   "id": "bb9f96ae",
   "metadata": {
    "ExecuteTime": {
     "end_time": "2023-07-18T06:51:49.072182Z",
     "start_time": "2023-07-18T06:51:49.067718Z"
    }
   },
   "outputs": [],
   "source": [
    "# type casting(형식 변경)\n",
    "new_num_char = str(num_char)"
   ]
  },
  {
   "cell_type": "code",
   "execution_count": 25,
   "id": "d7035549",
   "metadata": {
    "ExecuteTime": {
     "end_time": "2023-07-18T06:51:52.726281Z",
     "start_time": "2023-07-18T06:51:49.966007Z"
    }
   },
   "outputs": [
    {
     "name": "stdout",
     "output_type": "stream",
     "text": [
      "What is your name?Dongyo\n",
      "Your name has 6 Characters.\n"
     ]
    }
   ],
   "source": [
    "# 문자열에 정수형을 연결하면 해결 가능\n",
    "num_char = len(input(\"What is your name?\"))\n",
    "print(\"Your name has \" + new_num_char + \" Characters.\")"
   ]
  },
  {
   "cell_type": "code",
   "execution_count": 26,
   "id": "58b90b1d",
   "metadata": {
    "ExecuteTime": {
     "end_time": "2023-07-18T06:52:52.742454Z",
     "start_time": "2023-07-18T06:52:52.736516Z"
    }
   },
   "outputs": [
    {
     "name": "stdout",
     "output_type": "stream",
     "text": [
      "<class 'str'>\n"
     ]
    }
   ],
   "source": [
    "a = str(123)\n",
    "print(type(a))"
   ]
  },
  {
   "cell_type": "code",
   "execution_count": 28,
   "id": "bf315739",
   "metadata": {
    "ExecuteTime": {
     "end_time": "2023-07-18T06:54:04.038426Z",
     "start_time": "2023-07-18T06:54:04.032465Z"
    }
   },
   "outputs": [
    {
     "name": "stdout",
     "output_type": "stream",
     "text": [
      "170.5\n",
      "70100\n"
     ]
    }
   ],
   "source": [
    "print(70 + float(\"100.5\"))\n",
    "print(str(70) + str(100))"
   ]
  },
  {
   "cell_type": "code",
   "execution_count": 39,
   "id": "fb6d8929",
   "metadata": {
    "ExecuteTime": {
     "end_time": "2023-07-18T07:04:34.367877Z",
     "start_time": "2023-07-18T07:04:33.352867Z"
    }
   },
   "outputs": [
    {
     "name": "stdout",
     "output_type": "stream",
     "text": [
      "Type a two digit number: 26\n"
     ]
    }
   ],
   "source": [
    "# 데이터형식 관련 퀴즈\n",
    "two_digit_number = input(\"Type a two digit number: \")"
   ]
  },
  {
   "cell_type": "code",
   "execution_count": 41,
   "id": "3b8112ca",
   "metadata": {
    "ExecuteTime": {
     "end_time": "2023-07-18T07:04:40.334365Z",
     "start_time": "2023-07-18T07:04:40.327635Z"
    }
   },
   "outputs": [
    {
     "data": {
      "text/plain": [
       "8"
      ]
     },
     "execution_count": 41,
     "metadata": {},
     "output_type": "execute_result"
    }
   ],
   "source": [
    "int(two_digit_number[0]) + int(two_digit_number[1])"
   ]
  },
  {
   "cell_type": "markdown",
   "id": "1fba5c45",
   "metadata": {},
   "source": [
    "# 파이썬의 수학 연산"
   ]
  },
  {
   "cell_type": "code",
   "execution_count": 44,
   "id": "9892a61b",
   "metadata": {
    "ExecuteTime": {
     "end_time": "2023-07-18T07:11:48.796792Z",
     "start_time": "2023-07-18T07:11:48.789728Z"
    }
   },
   "outputs": [
    {
     "data": {
      "text/plain": [
       "4"
      ]
     },
     "execution_count": 44,
     "metadata": {},
     "output_type": "execute_result"
    }
   ],
   "source": [
    "7 - 3"
   ]
  },
  {
   "cell_type": "code",
   "execution_count": 45,
   "id": "4e7c6c6c",
   "metadata": {
    "ExecuteTime": {
     "end_time": "2023-07-18T07:12:01.480621Z",
     "start_time": "2023-07-18T07:12:01.473773Z"
    }
   },
   "outputs": [
    {
     "data": {
      "text/plain": [
       "6"
      ]
     },
     "execution_count": 45,
     "metadata": {},
     "output_type": "execute_result"
    }
   ],
   "source": [
    "3 * 2"
   ]
  },
  {
   "cell_type": "code",
   "execution_count": 46,
   "id": "d234677c",
   "metadata": {
    "ExecuteTime": {
     "end_time": "2023-07-18T07:12:11.427430Z",
     "start_time": "2023-07-18T07:12:11.421293Z"
    }
   },
   "outputs": [
    {
     "name": "stdout",
     "output_type": "stream",
     "text": [
      "2.0\n"
     ]
    }
   ],
   "source": [
    "print(6 / 3)"
   ]
  },
  {
   "cell_type": "code",
   "execution_count": 48,
   "id": "dfc3813d",
   "metadata": {
    "ExecuteTime": {
     "end_time": "2023-07-18T07:13:08.295438Z",
     "start_time": "2023-07-18T07:13:08.289324Z"
    }
   },
   "outputs": [
    {
     "name": "stdout",
     "output_type": "stream",
     "text": [
      "8\n"
     ]
    }
   ],
   "source": [
    "print(2 ** 3)"
   ]
  },
  {
   "cell_type": "code",
   "execution_count": 49,
   "id": "aa0a2008",
   "metadata": {
    "ExecuteTime": {
     "end_time": "2023-07-18T07:14:38.980204Z",
     "start_time": "2023-07-18T07:14:38.975483Z"
    }
   },
   "outputs": [
    {
     "name": "stdout",
     "output_type": "stream",
     "text": [
      "7.0\n"
     ]
    }
   ],
   "source": [
    "print(3 * 3 + 3 / 3 - 3)"
   ]
  },
  {
   "cell_type": "code",
   "execution_count": 58,
   "id": "66c425d9",
   "metadata": {
    "ExecuteTime": {
     "end_time": "2023-07-18T07:25:06.787113Z",
     "start_time": "2023-07-18T07:25:04.839960Z"
    }
   },
   "outputs": [
    {
     "name": "stdout",
     "output_type": "stream",
     "text": [
      "키를 입력하세요(m)1.8\n",
      "몸무게를 입력하세요(kg)64\n",
      "당신의 BMI 지수는 :  19.8\n"
     ]
    }
   ],
   "source": [
    "# BMI 계산기 만들기 퀴즈\n",
    "height = float(input(\"키를 입력하세요(m)\"))\n",
    "weight = float(input(\"몸무게를 입력하세요(kg)\"))\n",
    "BMI = weight / height ** 2 # 지수는 **\n",
    "print(\"당신의 BMI 지수는 : \", round(BMI,1))"
   ]
  },
  {
   "cell_type": "markdown",
   "id": "14e0c246",
   "metadata": {},
   "source": [
    "# 파이썬의 문자 처리 및 F-string"
   ]
  },
  {
   "cell_type": "code",
   "execution_count": 64,
   "id": "1899d17c",
   "metadata": {
    "ExecuteTime": {
     "end_time": "2023-07-18T07:28:59.727472Z",
     "start_time": "2023-07-18T07:28:59.720087Z"
    }
   },
   "outputs": [
    {
     "name": "stdout",
     "output_type": "stream",
     "text": [
      "<class 'int'>\n"
     ]
    }
   ],
   "source": [
    "print(type(8 // 3))"
   ]
  },
  {
   "cell_type": "code",
   "execution_count": 69,
   "id": "9f53ab44",
   "metadata": {
    "ExecuteTime": {
     "end_time": "2023-07-18T07:30:03.686218Z",
     "start_time": "2023-07-18T07:30:03.679978Z"
    }
   },
   "outputs": [
    {
     "name": "stdout",
     "output_type": "stream",
     "text": [
      "1.0\n"
     ]
    }
   ],
   "source": [
    "result = 4 / 2\n",
    "result /= 2\n",
    "print(result)"
   ]
  },
  {
   "cell_type": "code",
   "execution_count": 76,
   "id": "8207e433",
   "metadata": {
    "ExecuteTime": {
     "end_time": "2023-07-18T07:34:22.780760Z",
     "start_time": "2023-07-18T07:34:22.774201Z"
    }
   },
   "outputs": [
    {
     "name": "stdout",
     "output_type": "stream",
     "text": [
      "Your Score is 0, your height is 1.8, you are winning is True\n"
     ]
    }
   ],
   "source": [
    "score = 0\n",
    "height = 1.8\n",
    "isWinning = True\n",
    "# f-string(\"\"을 선호함)\n",
    "print(f\"Your Score is {score}, your height is {height}, you are winning is {isWinning}\")"
   ]
  },
  {
   "cell_type": "code",
   "execution_count": 79,
   "id": "c3692357",
   "metadata": {
    "ExecuteTime": {
     "end_time": "2023-07-18T07:53:25.338730Z",
     "start_time": "2023-07-18T07:53:23.815754Z"
    }
   },
   "outputs": [
    {
     "name": "stdout",
     "output_type": "stream",
     "text": [
      "당신의 나이를 입력하세요 : 19\n"
     ]
    }
   ],
   "source": [
    "age = input(\"당신의 나이를 입력하세요 : \")\n",
    "age_as_int = int(age)"
   ]
  },
  {
   "cell_type": "code",
   "execution_count": 83,
   "id": "fafa1c0b",
   "metadata": {
    "ExecuteTime": {
     "end_time": "2023-07-18T07:55:56.854697Z",
     "start_time": "2023-07-18T07:55:56.850063Z"
    }
   },
   "outputs": [],
   "source": [
    "years_remaining = 80 - age_as_int\n",
    "days_remaining = years_remaining * 365\n",
    "weeks_remaining = years_remaining * 52\n",
    "months_remaining = years_remaining * 12"
   ]
  },
  {
   "cell_type": "code",
   "execution_count": 84,
   "id": "aaa8cbc1",
   "metadata": {
    "ExecuteTime": {
     "end_time": "2023-07-18T07:55:57.800003Z",
     "start_time": "2023-07-18T07:55:57.794830Z"
    }
   },
   "outputs": [
    {
     "name": "stdout",
     "output_type": "stream",
     "text": [
      "You have 22265 days, 3172 weeks and 732 months left.\n"
     ]
    }
   ],
   "source": [
    "print(f\"You have {days_remaining} days, {weeks_remaining} weeks and {months_remaining} months left.\")"
   ]
  },
  {
   "cell_type": "code",
   "execution_count": 98,
   "id": "aa7e4c76",
   "metadata": {
    "ExecuteTime": {
     "end_time": "2023-07-18T08:10:51.297181Z",
     "start_time": "2023-07-18T08:10:39.922294Z"
    }
   },
   "outputs": [
    {
     "name": "stdout",
     "output_type": "stream",
     "text": [
      "What was the total bill? : 153.45\n",
      "What percentage tip would you like to give?(10, 12, 15) : 15\n",
      "How many people to split the bill? : 5\n",
      "Each person should pay : $35.29\n"
     ]
    }
   ],
   "source": [
    "# 2일차 프로젝트 : 팁 계산기\n",
    "total_bill = input(\"What was the total bill? : \")\n",
    "tip_percent = input(\"What percentage tip would you like to give?(10, 12, 15) : \")\n",
    "num_people = input(\"How many people to split the bill? : \")\n",
    "\n",
    "splitted_money = float(total_bill) * (1 + float(tip_percent) / 100) / float(num_people)\n",
    "# splitted_money = \"{:.2f}\".format(splitted_money)\"\n",
    "\n",
    "print(f\"Each person should pay : ${round(splitted_money, 2)}\")"
   ]
  }
 ],
 "metadata": {
  "kernelspec": {
   "display_name": "Python 3 (ipykernel)",
   "language": "python",
   "name": "python3"
  },
  "language_info": {
   "codemirror_mode": {
    "name": "ipython",
    "version": 3
   },
   "file_extension": ".py",
   "mimetype": "text/x-python",
   "name": "python",
   "nbconvert_exporter": "python",
   "pygments_lexer": "ipython3",
   "version": "3.9.13"
  },
  "toc": {
   "base_numbering": 1,
   "nav_menu": {},
   "number_sections": false,
   "sideBar": true,
   "skip_h1_title": false,
   "title_cell": "Table of Contents",
   "title_sidebar": "Contents",
   "toc_cell": false,
   "toc_position": {
    "height": "calc(100% - 180px)",
    "left": "10px",
    "top": "150px",
    "width": "144px"
   },
   "toc_section_display": true,
   "toc_window_display": true
  }
 },
 "nbformat": 4,
 "nbformat_minor": 5
}
