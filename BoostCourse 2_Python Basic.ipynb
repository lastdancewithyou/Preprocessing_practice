{
 "cells": [
  {
   "cell_type": "code",
   "execution_count": 1,
   "id": "9e18cced",
   "metadata": {},
   "outputs": [
    {
     "name": "stdout",
     "output_type": "stream",
     "text": [
      "The Zen of Python, by Tim Peters\n",
      "\n",
      "Beautiful is better than ugly.\n",
      "Explicit is better than implicit.\n",
      "Simple is better than complex.\n",
      "Complex is better than complicated.\n",
      "Flat is better than nested.\n",
      "Sparse is better than dense.\n",
      "Readability counts.\n",
      "Special cases aren't special enough to break the rules.\n",
      "Although practicality beats purity.\n",
      "Errors should never pass silently.\n",
      "Unless explicitly silenced.\n",
      "In the face of ambiguity, refuse the temptation to guess.\n",
      "There should be one-- and preferably only one --obvious way to do it.\n",
      "Although that way may not be obvious at first unless you're Dutch.\n",
      "Now is better than never.\n",
      "Although never is often better than *right* now.\n",
      "If the implementation is hard to explain, it's a bad idea.\n",
      "If the implementation is easy to explain, it may be a good idea.\n",
      "Namespaces are one honking great idea -- let's do more of those!\n"
     ]
    }
   ],
   "source": [
    "import this"
   ]
  },
  {
   "cell_type": "markdown",
   "id": "fd7766a7",
   "metadata": {},
   "source": [
    "# Boolean\n",
    "- 파이썬에는 명시적인 것이 암시적인 것보다 낫다는 철학이 있습니다.\n",
    "- True나 False는 0과 1로도 표현할 수 있으나 명시적으로 표현하기 위해 True와 False를 사용합니다."
   ]
  },
  {
   "cell_type": "code",
   "execution_count": 7,
   "id": "c90d2fa6",
   "metadata": {},
   "outputs": [
    {
     "data": {
      "text/plain": [
       "True"
      ]
     },
     "execution_count": 7,
     "metadata": {},
     "output_type": "execute_result"
    }
   ],
   "source": [
    "True"
   ]
  },
  {
   "cell_type": "code",
   "execution_count": 8,
   "id": "cd27502e",
   "metadata": {},
   "outputs": [
    {
     "data": {
      "text/plain": [
       "False"
      ]
     },
     "execution_count": 8,
     "metadata": {},
     "output_type": "execute_result"
    }
   ],
   "source": [
    "False"
   ]
  },
  {
   "cell_type": "code",
   "execution_count": 9,
   "id": "6d15a0c7",
   "metadata": {},
   "outputs": [
    {
     "data": {
      "text/plain": [
       "True"
      ]
     },
     "execution_count": 9,
     "metadata": {},
     "output_type": "execute_result"
    }
   ],
   "source": [
    "True == 1"
   ]
  },
  {
   "cell_type": "code",
   "execution_count": 10,
   "id": "7e5ffdd2",
   "metadata": {},
   "outputs": [
    {
     "data": {
      "text/plain": [
       "True"
      ]
     },
     "execution_count": 10,
     "metadata": {},
     "output_type": "execute_result"
    }
   ],
   "source": [
    "False == 0"
   ]
  },
  {
   "cell_type": "code",
   "execution_count": 11,
   "id": "d63b14cd",
   "metadata": {},
   "outputs": [
    {
     "data": {
      "text/plain": [
       "False"
      ]
     },
     "execution_count": 11,
     "metadata": {},
     "output_type": "execute_result"
    }
   ],
   "source": [
    "# 문자열 \"1\"과는 다름\n",
    "True == \"1\""
   ]
  },
  {
   "cell_type": "code",
   "execution_count": 16,
   "id": "ef2568e8",
   "metadata": {},
   "outputs": [
    {
     "data": {
      "text/plain": [
       "True"
      ]
     },
     "execution_count": 16,
     "metadata": {},
     "output_type": "execute_result"
    }
   ],
   "source": [
    "# 문자열 1과 True는 다르다\n",
    "True != \"1\""
   ]
  },
  {
   "cell_type": "code",
   "execution_count": 18,
   "id": "d20e97d4",
   "metadata": {},
   "outputs": [
    {
     "data": {
      "text/plain": [
       "False"
      ]
     },
     "execution_count": 18,
     "metadata": {},
     "output_type": "execute_result"
    }
   ],
   "source": [
    "False == \"0\""
   ]
  },
  {
   "cell_type": "code",
   "execution_count": 17,
   "id": "d69f635c",
   "metadata": {},
   "outputs": [
    {
     "data": {
      "text/plain": [
       "True"
      ]
     },
     "execution_count": 17,
     "metadata": {},
     "output_type": "execute_result"
    }
   ],
   "source": [
    "False != \"0\""
   ]
  },
  {
   "cell_type": "code",
   "execution_count": 19,
   "id": "c2d17e9e",
   "metadata": {},
   "outputs": [
    {
     "data": {
      "text/plain": [
       "True"
      ]
     },
     "execution_count": 19,
     "metadata": {},
     "output_type": "execute_result"
    }
   ],
   "source": [
    "# and 연산으로 True 값끼리 비교\n",
    "# and는 모든 값이 True일때만 True가 됩니다.\n",
    "True and True"
   ]
  },
  {
   "cell_type": "code",
   "execution_count": 20,
   "id": "4cec691d",
   "metadata": {},
   "outputs": [
    {
     "data": {
      "text/plain": [
       "False"
      ]
     },
     "execution_count": 20,
     "metadata": {},
     "output_type": "execute_result"
    }
   ],
   "source": [
    "True and False"
   ]
  },
  {
   "cell_type": "code",
   "execution_count": 21,
   "id": "ce92b270",
   "metadata": {},
   "outputs": [
    {
     "data": {
      "text/plain": [
       "True"
      ]
     },
     "execution_count": 21,
     "metadata": {},
     "output_type": "execute_result"
    }
   ],
   "source": [
    "True or False"
   ]
  },
  {
   "cell_type": "markdown",
   "id": "7e352899",
   "metadata": {},
   "source": [
    "# Number and String\n",
    "- 숫자 1과 문자 \"1\"은 다르다.\n",
    "- 데이터 타입은 type을 통해 표현, 출력이 가능하다."
   ]
  },
  {
   "cell_type": "code",
   "execution_count": 22,
   "id": "80154ddb",
   "metadata": {},
   "outputs": [
    {
     "data": {
      "text/plain": [
       "1"
      ]
     },
     "execution_count": 22,
     "metadata": {},
     "output_type": "execute_result"
    }
   ],
   "source": [
    "1"
   ]
  },
  {
   "cell_type": "code",
   "execution_count": 23,
   "id": "3bc25324",
   "metadata": {},
   "outputs": [
    {
     "data": {
      "text/plain": [
       "'1'"
      ]
     },
     "execution_count": 23,
     "metadata": {},
     "output_type": "execute_result"
    }
   ],
   "source": [
    "\"1\""
   ]
  },
  {
   "cell_type": "code",
   "execution_count": 25,
   "id": "98c31c29",
   "metadata": {},
   "outputs": [
    {
     "data": {
      "text/plain": [
       "int"
      ]
     },
     "execution_count": 25,
     "metadata": {},
     "output_type": "execute_result"
    }
   ],
   "source": [
    "type(1)"
   ]
  },
  {
   "cell_type": "code",
   "execution_count": 26,
   "id": "dd6de34e",
   "metadata": {},
   "outputs": [
    {
     "data": {
      "text/plain": [
       "str"
      ]
     },
     "execution_count": 26,
     "metadata": {},
     "output_type": "execute_result"
    }
   ],
   "source": [
    "type(\"1\")"
   ]
  },
  {
   "cell_type": "code",
   "execution_count": 27,
   "id": "d0a2086a",
   "metadata": {},
   "outputs": [
    {
     "data": {
      "text/plain": [
       "False"
      ]
     },
     "execution_count": 27,
     "metadata": {},
     "output_type": "execute_result"
    }
   ],
   "source": [
    "1==\"1\""
   ]
  },
  {
   "cell_type": "code",
   "execution_count": 28,
   "id": "d48870d2",
   "metadata": {},
   "outputs": [
    {
     "data": {
      "text/plain": [
       "'Hello World'"
      ]
     },
     "execution_count": 28,
     "metadata": {},
     "output_type": "execute_result"
    }
   ],
   "source": [
    "\"Hello World\""
   ]
  },
  {
   "cell_type": "code",
   "execution_count": 29,
   "id": "4fd29736",
   "metadata": {},
   "outputs": [
    {
     "data": {
      "text/plain": [
       "'경기도 성남시 분당구'"
      ]
     },
     "execution_count": 29,
     "metadata": {},
     "output_type": "execute_result"
    }
   ],
   "source": [
    "\"경기도 성남시 분당구\""
   ]
  },
  {
   "cell_type": "code",
   "execution_count": 31,
   "id": "a1f16f80",
   "metadata": {},
   "outputs": [
    {
     "data": {
      "text/plain": [
       "'Today I Learned'"
      ]
     },
     "execution_count": 31,
     "metadata": {},
     "output_type": "execute_result"
    }
   ],
   "source": [
    "til = \"Today I Learned\"\n",
    "til"
   ]
  },
  {
   "cell_type": "code",
   "execution_count": 32,
   "id": "8dc9c646",
   "metadata": {},
   "outputs": [
    {
     "data": {
      "text/plain": [
       "'today i learned'"
      ]
     },
     "execution_count": 32,
     "metadata": {},
     "output_type": "execute_result"
    }
   ],
   "source": [
    "# 모든 문자를 소문자화\n",
    "til.lower()"
   ]
  },
  {
   "cell_type": "code",
   "execution_count": 33,
   "id": "53020dbb",
   "metadata": {},
   "outputs": [
    {
     "data": {
      "text/plain": [
       "'TODAY I LEARNED'"
      ]
     },
     "execution_count": 33,
     "metadata": {},
     "output_type": "execute_result"
    }
   ],
   "source": [
    "# 모든 문자를 대문자화\n",
    "til.upper()"
   ]
  },
  {
   "cell_type": "code",
   "execution_count": 40,
   "id": "3a81317d",
   "metadata": {},
   "outputs": [
    {
     "data": {
      "text/plain": [
       "[]"
      ]
     },
     "execution_count": 40,
     "metadata": {},
     "output_type": "execute_result"
    }
   ],
   "source": [
    "# 비어있는 리스트\n",
    "lang = []\n",
    "lang"
   ]
  },
  {
   "cell_type": "code",
   "execution_count": 41,
   "id": "0ee38cea",
   "metadata": {},
   "outputs": [
    {
     "data": {
      "text/plain": [
       "['python', 'java', 'c']"
      ]
     },
     "execution_count": 41,
     "metadata": {},
     "output_type": "execute_result"
    }
   ],
   "source": [
    "lang.append(\"python\")\n",
    "lang.append(\"java\")\n",
    "lang.append(\"c\")\n",
    "lang"
   ]
  },
  {
   "cell_type": "code",
   "execution_count": 43,
   "id": "3877f535",
   "metadata": {},
   "outputs": [
    {
     "data": {
      "text/plain": [
       "'python'"
      ]
     },
     "execution_count": 43,
     "metadata": {},
     "output_type": "execute_result"
    }
   ],
   "source": [
    "# lang이라는 변수에 담겨있는 언어명을 인덱싱을 통해 가져옴\n",
    "lang[0]"
   ]
  },
  {
   "cell_type": "code",
   "execution_count": 44,
   "id": "37e454c9",
   "metadata": {},
   "outputs": [
    {
     "data": {
      "text/plain": [
       "'java'"
      ]
     },
     "execution_count": 44,
     "metadata": {},
     "output_type": "execute_result"
    }
   ],
   "source": [
    "lang[1]"
   ]
  },
  {
   "cell_type": "code",
   "execution_count": 45,
   "id": "8f63888b",
   "metadata": {},
   "outputs": [
    {
     "data": {
      "text/plain": [
       "'c'"
      ]
     },
     "execution_count": 45,
     "metadata": {},
     "output_type": "execute_result"
    }
   ],
   "source": [
    "lang[2]"
   ]
  },
  {
   "cell_type": "code",
   "execution_count": 48,
   "id": "779015ca",
   "metadata": {},
   "outputs": [
    {
     "data": {
      "text/plain": [
       "'c'"
      ]
     },
     "execution_count": 48,
     "metadata": {},
     "output_type": "execute_result"
    }
   ],
   "source": [
    "lang[-1]"
   ]
  },
  {
   "cell_type": "markdown",
   "id": "39330105",
   "metadata": {},
   "source": [
    "# Control Flow\n",
    "- 제어문 - 조건문, 반복문"
   ]
  },
  {
   "cell_type": "code",
   "execution_count": 50,
   "id": "04a34336",
   "metadata": {},
   "outputs": [
    {
     "name": "stdout",
     "output_type": "stream",
     "text": [
      "python\n",
      "java\n",
      "c\n"
     ]
    }
   ],
   "source": [
    "for i in lang : \n",
    "    print(i)"
   ]
  },
  {
   "cell_type": "code",
   "execution_count": 52,
   "id": "fe69b648",
   "metadata": {
    "scrolled": true
   },
   "outputs": [
    {
     "name": "stdout",
     "output_type": "stream",
     "text": [
      "python\n",
      "기타\n",
      "기타\n"
     ]
    }
   ],
   "source": [
    "for i in lang : \n",
    "    if i == \"python\" : \n",
    "        print(\"python\")\n",
    "    else :\n",
    "        print(\"기타\")"
   ]
  },
  {
   "cell_type": "code",
   "execution_count": 58,
   "id": "55c109b1",
   "metadata": {
    "scrolled": true
   },
   "outputs": [
    {
     "name": "stdout",
     "output_type": "stream",
     "text": [
      "python\n",
      "java\n",
      "c\n"
     ]
    }
   ],
   "source": [
    "# 특정 횟수만큼 반복문을 실행하도록 한다.\n",
    "count = len(lang)\n",
    "for i in range(count) : \n",
    "    print(lang[i])"
   ]
  },
  {
   "cell_type": "code",
   "execution_count": 65,
   "id": "409d87a9",
   "metadata": {
    "scrolled": true
   },
   "outputs": [
    {
     "name": "stdout",
     "output_type": "stream",
     "text": [
      "java\n",
      "python\n",
      "java\n",
      "python\n",
      "java\n",
      "python\n",
      "java\n",
      "python\n",
      "java\n"
     ]
    }
   ],
   "source": [
    "for i in range(1, 10) : \n",
    "    if i % 2 == 0 :\n",
    "        print(\"python\")\n",
    "    else : \n",
    "        print(\"java\")"
   ]
  },
  {
   "cell_type": "code",
   "execution_count": 66,
   "id": "92e29711",
   "metadata": {},
   "outputs": [
    {
     "name": "stdout",
     "output_type": "stream",
     "text": [
      "python\n",
      "java\n",
      "c\n"
     ]
    }
   ],
   "source": [
    "for i in lang : \n",
    "    print(i)"
   ]
  },
  {
   "cell_type": "code",
   "execution_count": 68,
   "id": "3b1754e1",
   "metadata": {},
   "outputs": [
    {
     "name": "stdout",
     "output_type": "stream",
     "text": [
      "0 python\n",
      "1 java\n",
      "2 c\n"
     ]
    }
   ],
   "source": [
    "# enumerate를 사용하면 인덱스 번호와 원소를 같이 가져올 수 있음.\n",
    "for i, val in enumerate(lang) : \n",
    "    print(i, val)"
   ]
  },
  {
   "cell_type": "code",
   "execution_count": 69,
   "id": "db80e58a",
   "metadata": {},
   "outputs": [],
   "source": [
    "address = \" 경기도 성남시 분당구 불정로 6 Naver 그린팩토리 16층 \""
   ]
  },
  {
   "cell_type": "code",
   "execution_count": 72,
   "id": "4aeebd5e",
   "metadata": {},
   "outputs": [
    {
     "data": {
      "text/plain": [
       "'경기도 성남시 분당구 불정로 6 Naver 그린팩토리 16층'"
      ]
     },
     "execution_count": 72,
     "metadata": {},
     "output_type": "execute_result"
    }
   ],
   "source": [
    "# 공백 문자 제거 / strip은 앞뒤 문자 제거해 줌.\n",
    "address = address.strip()\n",
    "address"
   ]
  },
  {
   "cell_type": "code",
   "execution_count": 73,
   "id": "42597b10",
   "metadata": {},
   "outputs": [
    {
     "data": {
      "text/plain": [
       "33"
      ]
     },
     "execution_count": 73,
     "metadata": {},
     "output_type": "execute_result"
    }
   ],
   "source": [
    "len(address)"
   ]
  },
  {
   "cell_type": "code",
   "execution_count": 75,
   "id": "a5647496",
   "metadata": {},
   "outputs": [
    {
     "data": {
      "text/plain": [
       "['경기도', '성남시', '분당구', '불정로', '6', 'Naver', '그린팩토리', '16층']"
      ]
     },
     "execution_count": 75,
     "metadata": {},
     "output_type": "execute_result"
    }
   ],
   "source": [
    "# 공백으로 문자열 분리\n",
    "address.split()"
   ]
  },
  {
   "cell_type": "code",
   "execution_count": 76,
   "id": "d56579fe",
   "metadata": {},
   "outputs": [
    {
     "data": {
      "text/plain": [
       "['경기도 성남', ' 분당구 불정로 6 Naver 그린팩토리 16층']"
      ]
     },
     "execution_count": 76,
     "metadata": {},
     "output_type": "execute_result"
    }
   ],
   "source": [
    "# 시를 기준으로 문자열 분리\n",
    "address.split(\"시\")"
   ]
  },
  {
   "cell_type": "code",
   "execution_count": 77,
   "id": "1671bdc5",
   "metadata": {},
   "outputs": [
    {
     "data": {
      "text/plain": [
       "['경기도', '성남시', '분당구', '불정로', '6', 'Naver', '그린팩토리', '16층']"
      ]
     },
     "execution_count": 77,
     "metadata": {},
     "output_type": "execute_result"
    }
   ],
   "source": [
    "address_list = address.split()\n",
    "address_list"
   ]
  },
  {
   "cell_type": "code",
   "execution_count": 78,
   "id": "feda753d",
   "metadata": {},
   "outputs": [
    {
     "data": {
      "text/plain": [
       "8"
      ]
     },
     "execution_count": 78,
     "metadata": {},
     "output_type": "execute_result"
    }
   ],
   "source": [
    "len(address_list)"
   ]
  },
  {
   "cell_type": "markdown",
   "id": "204643e2",
   "metadata": {},
   "source": [
    "- 슬라이싱, startswith, in을 통해 문자열에 경기가 있는지 확인하기"
   ]
  },
  {
   "cell_type": "code",
   "execution_count": 80,
   "id": "400b3535",
   "metadata": {},
   "outputs": [
    {
     "data": {
      "text/plain": [
       "'경기'"
      ]
     },
     "execution_count": 80,
     "metadata": {},
     "output_type": "execute_result"
    }
   ],
   "source": [
    "# 슬라이싱으로 문자 가져오기\n",
    "address[:2]"
   ]
  },
  {
   "cell_type": "code",
   "execution_count": 82,
   "id": "51e10e41",
   "metadata": {},
   "outputs": [
    {
     "data": {
      "text/plain": [
       "True"
      ]
     },
     "execution_count": 82,
     "metadata": {},
     "output_type": "execute_result"
    }
   ],
   "source": [
    "# startswith 사용 시 특정 문자열 포함 여부 확인 가능\n",
    "address.startswith(\"경기\")"
   ]
  },
  {
   "cell_type": "code",
   "execution_count": 83,
   "id": "f8dd3a78",
   "metadata": {},
   "outputs": [
    {
     "data": {
      "text/plain": [
       "True"
      ]
     },
     "execution_count": 83,
     "metadata": {},
     "output_type": "execute_result"
    }
   ],
   "source": [
    "# in 사용 시 특정 문자열 포함 여부 확인 가능\n",
    "\"경기\" in address"
   ]
  },
  {
   "cell_type": "markdown",
   "id": "1c87272e",
   "metadata": {},
   "source": [
    "# 리스트\n",
    "- 문자열에서 쓰는 방법과 비슷하게 메소드 등을 사용할 수 있습니다.\n",
    "- 차이를 비교해보세요."
   ]
  },
  {
   "cell_type": "code",
   "execution_count": 86,
   "id": "7c4405eb",
   "metadata": {},
   "outputs": [
    {
     "data": {
      "text/plain": [
       "['경기도', '성남시', '분당구', '불정로', '6', 'Naver', '그린팩토리', '16층']"
      ]
     },
     "execution_count": 86,
     "metadata": {},
     "output_type": "execute_result"
    }
   ],
   "source": [
    "address_list"
   ]
  },
  {
   "cell_type": "code",
   "execution_count": 91,
   "id": "668cda66",
   "metadata": {},
   "outputs": [
    {
     "data": {
      "text/plain": [
       "'분당구'"
      ]
     },
     "execution_count": 91,
     "metadata": {},
     "output_type": "execute_result"
    }
   ],
   "source": [
    "gu = address_list[2]\n",
    "gu"
   ]
  },
  {
   "cell_type": "code",
   "execution_count": 93,
   "id": "1536c3df",
   "metadata": {},
   "outputs": [
    {
     "data": {
      "text/plain": [
       "'불정로'"
      ]
     },
     "execution_count": 93,
     "metadata": {},
     "output_type": "execute_result"
    }
   ],
   "source": [
    "street = address_list[3]\n",
    "street"
   ]
  },
  {
   "cell_type": "code",
   "execution_count": 94,
   "id": "68cd5d6b",
   "metadata": {},
   "outputs": [
    {
     "data": {
      "text/plain": [
       "'16층'"
      ]
     },
     "execution_count": 94,
     "metadata": {},
     "output_type": "execute_result"
    }
   ],
   "source": [
    "address_list[-1]"
   ]
  },
  {
   "cell_type": "code",
   "execution_count": 99,
   "id": "d40b8cbf",
   "metadata": {
    "scrolled": true
   },
   "outputs": [
    {
     "data": {
      "text/plain": [
       "'경기도 성남시 분당구 불정로 6 Naver 그린팩토리 16층'"
      ]
     },
     "execution_count": 99,
     "metadata": {},
     "output_type": "execute_result"
    }
   ],
   "source": [
    "\" \".join(address_list)"
   ]
  },
  {
   "cell_type": "code",
   "execution_count": 101,
   "id": "d6e8dd99",
   "metadata": {},
   "outputs": [
    {
     "data": {
      "text/plain": [
       "['경기도', '성남시', '분당구', '불정로', '6', 'Naver', '그린팩토리', '16층']"
      ]
     },
     "execution_count": 101,
     "metadata": {},
     "output_type": "execute_result"
    }
   ],
   "source": [
    "address_list"
   ]
  },
  {
   "cell_type": "code",
   "execution_count": 104,
   "id": "9c4d2d9f",
   "metadata": {},
   "outputs": [
    {
     "data": {
      "text/plain": [
       "False"
      ]
     },
     "execution_count": 104,
     "metadata": {},
     "output_type": "execute_result"
    }
   ],
   "source": [
    "\"경기\" in address_list"
   ]
  },
  {
   "cell_type": "code",
   "execution_count": 102,
   "id": "8e07926c",
   "metadata": {},
   "outputs": [
    {
     "data": {
      "text/plain": [
       "True"
      ]
     },
     "execution_count": 102,
     "metadata": {},
     "output_type": "execute_result"
    }
   ],
   "source": [
    "\"경기도\" in address_list"
   ]
  },
  {
   "cell_type": "code",
   "execution_count": 103,
   "id": "df48ebd1",
   "metadata": {},
   "outputs": [
    {
     "data": {
      "text/plain": [
       "True"
      ]
     },
     "execution_count": 103,
     "metadata": {},
     "output_type": "execute_result"
    }
   ],
   "source": [
    "\"분당구\" in address_list"
   ]
  },
  {
   "cell_type": "markdown",
   "id": "79dc58ca",
   "metadata": {},
   "source": [
    "# 판다스(Pandas)\n",
    "- 엑셀보다 대용량 데이터 처리에 유리함\n",
    "- 소스코드들이 작성되어 있으면 데이터프레임만 변경하고 기존의 소스코드 재사용 가능"
   ]
  },
  {
   "cell_type": "code",
   "execution_count": 106,
   "id": "50f19f61",
   "metadata": {},
   "outputs": [],
   "source": [
    "import pandas as pd"
   ]
  },
  {
   "cell_type": "code",
   "execution_count": 124,
   "id": "8892536d",
   "metadata": {},
   "outputs": [
    {
     "data": {
      "text/html": [
       "<div>\n",
       "<style scoped>\n",
       "    .dataframe tbody tr th:only-of-type {\n",
       "        vertical-align: middle;\n",
       "    }\n",
       "\n",
       "    .dataframe tbody tr th {\n",
       "        vertical-align: top;\n",
       "    }\n",
       "\n",
       "    .dataframe thead th {\n",
       "        text-align: right;\n",
       "    }\n",
       "</style>\n",
       "<table border=\"1\" class=\"dataframe\">\n",
       "  <thead>\n",
       "    <tr style=\"text-align: right;\">\n",
       "      <th></th>\n",
       "      <th>a</th>\n",
       "      <th>b</th>\n",
       "      <th>c</th>\n",
       "    </tr>\n",
       "  </thead>\n",
       "  <tbody>\n",
       "    <tr>\n",
       "      <th>1</th>\n",
       "      <td>4</td>\n",
       "      <td>7</td>\n",
       "      <td>10</td>\n",
       "    </tr>\n",
       "    <tr>\n",
       "      <th>2</th>\n",
       "      <td>5</td>\n",
       "      <td>8</td>\n",
       "      <td>11</td>\n",
       "    </tr>\n",
       "    <tr>\n",
       "      <th>3</th>\n",
       "      <td>6</td>\n",
       "      <td>9</td>\n",
       "      <td>12</td>\n",
       "    </tr>\n",
       "    <tr>\n",
       "      <th>4</th>\n",
       "      <td>4</td>\n",
       "      <td>9</td>\n",
       "      <td>10</td>\n",
       "    </tr>\n",
       "  </tbody>\n",
       "</table>\n",
       "</div>"
      ],
      "text/plain": [
       "   a  b   c\n",
       "1  4  7  10\n",
       "2  5  8  11\n",
       "3  6  9  12\n",
       "4  4  9  10"
      ]
     },
     "execution_count": 124,
     "metadata": {},
     "output_type": "execute_result"
    }
   ],
   "source": [
    "df = pd.DataFrame(\n",
    "{\"a\": [4, 5 ,6, 4],\n",
    "\"b\" : [7, 8, 9, 9],\n",
    "\"c\" : [10, 11, 12, 10]},\n",
    "index = [1, 2, 3, 4])\n",
    "df"
   ]
  },
  {
   "cell_type": "markdown",
   "id": "d75abfa5",
   "metadata": {},
   "source": [
    "## Series"
   ]
  },
  {
   "cell_type": "code",
   "execution_count": 115,
   "id": "5ccd51f1",
   "metadata": {},
   "outputs": [
    {
     "data": {
      "text/plain": [
       "1    4\n",
       "2    5\n",
       "3    6\n",
       "Name: a, dtype: int64"
      ]
     },
     "execution_count": 115,
     "metadata": {},
     "output_type": "execute_result"
    }
   ],
   "source": [
    "# series는 1차원적 자료구조\n",
    "df[\"a\"]"
   ]
  },
  {
   "cell_type": "code",
   "execution_count": 114,
   "id": "57e3e2cd",
   "metadata": {},
   "outputs": [
    {
     "data": {
      "text/html": [
       "<div>\n",
       "<style scoped>\n",
       "    .dataframe tbody tr th:only-of-type {\n",
       "        vertical-align: middle;\n",
       "    }\n",
       "\n",
       "    .dataframe tbody tr th {\n",
       "        vertical-align: top;\n",
       "    }\n",
       "\n",
       "    .dataframe thead th {\n",
       "        text-align: right;\n",
       "    }\n",
       "</style>\n",
       "<table border=\"1\" class=\"dataframe\">\n",
       "  <thead>\n",
       "    <tr style=\"text-align: right;\">\n",
       "      <th></th>\n",
       "      <th>a</th>\n",
       "    </tr>\n",
       "  </thead>\n",
       "  <tbody>\n",
       "    <tr>\n",
       "      <th>1</th>\n",
       "      <td>4</td>\n",
       "    </tr>\n",
       "    <tr>\n",
       "      <th>2</th>\n",
       "      <td>5</td>\n",
       "    </tr>\n",
       "    <tr>\n",
       "      <th>3</th>\n",
       "      <td>6</td>\n",
       "    </tr>\n",
       "  </tbody>\n",
       "</table>\n",
       "</div>"
      ],
      "text/plain": [
       "   a\n",
       "1  4\n",
       "2  5\n",
       "3  6"
      ]
     },
     "execution_count": 114,
     "metadata": {},
     "output_type": "execute_result"
    }
   ],
   "source": [
    "# 대괄호 두번으로 dataframe으로 변경\n",
    "df[[\"a\"]]"
   ]
  },
  {
   "cell_type": "markdown",
   "id": "7d39d2b1",
   "metadata": {},
   "source": [
    "## subset"
   ]
  },
  {
   "cell_type": "code",
   "execution_count": 119,
   "id": "b366ff3a",
   "metadata": {},
   "outputs": [
    {
     "data": {
      "text/html": [
       "<div>\n",
       "<style scoped>\n",
       "    .dataframe tbody tr th:only-of-type {\n",
       "        vertical-align: middle;\n",
       "    }\n",
       "\n",
       "    .dataframe tbody tr th {\n",
       "        vertical-align: top;\n",
       "    }\n",
       "\n",
       "    .dataframe thead th {\n",
       "        text-align: right;\n",
       "    }\n",
       "</style>\n",
       "<table border=\"1\" class=\"dataframe\">\n",
       "  <thead>\n",
       "    <tr style=\"text-align: right;\">\n",
       "      <th></th>\n",
       "      <th>a</th>\n",
       "      <th>b</th>\n",
       "      <th>c</th>\n",
       "    </tr>\n",
       "  </thead>\n",
       "  <tbody>\n",
       "    <tr>\n",
       "      <th>2</th>\n",
       "      <td>5</td>\n",
       "      <td>8</td>\n",
       "      <td>11</td>\n",
       "    </tr>\n",
       "    <tr>\n",
       "      <th>3</th>\n",
       "      <td>6</td>\n",
       "      <td>9</td>\n",
       "      <td>12</td>\n",
       "    </tr>\n",
       "  </tbody>\n",
       "</table>\n",
       "</div>"
      ],
      "text/plain": [
       "   a  b   c\n",
       "2  5  8  11\n",
       "3  6  9  12"
      ]
     },
     "execution_count": 119,
     "metadata": {},
     "output_type": "execute_result"
    }
   ],
   "source": [
    "df[df[\"a\"] > 4]"
   ]
  },
  {
   "cell_type": "code",
   "execution_count": 120,
   "id": "38a3e3f9",
   "metadata": {},
   "outputs": [
    {
     "data": {
      "text/plain": [
       "1    4\n",
       "2    5\n",
       "3    6\n",
       "Name: a, dtype: int64"
      ]
     },
     "execution_count": 120,
     "metadata": {},
     "output_type": "execute_result"
    }
   ],
   "source": [
    "df[\"a\"]"
   ]
  },
  {
   "cell_type": "code",
   "execution_count": 122,
   "id": "f5cc2c65",
   "metadata": {},
   "outputs": [
    {
     "data": {
      "text/html": [
       "<div>\n",
       "<style scoped>\n",
       "    .dataframe tbody tr th:only-of-type {\n",
       "        vertical-align: middle;\n",
       "    }\n",
       "\n",
       "    .dataframe tbody tr th {\n",
       "        vertical-align: top;\n",
       "    }\n",
       "\n",
       "    .dataframe thead th {\n",
       "        text-align: right;\n",
       "    }\n",
       "</style>\n",
       "<table border=\"1\" class=\"dataframe\">\n",
       "  <thead>\n",
       "    <tr style=\"text-align: right;\">\n",
       "      <th></th>\n",
       "      <th>a</th>\n",
       "      <th>b</th>\n",
       "    </tr>\n",
       "  </thead>\n",
       "  <tbody>\n",
       "    <tr>\n",
       "      <th>1</th>\n",
       "      <td>4</td>\n",
       "      <td>7</td>\n",
       "    </tr>\n",
       "    <tr>\n",
       "      <th>2</th>\n",
       "      <td>5</td>\n",
       "      <td>8</td>\n",
       "    </tr>\n",
       "    <tr>\n",
       "      <th>3</th>\n",
       "      <td>6</td>\n",
       "      <td>9</td>\n",
       "    </tr>\n",
       "  </tbody>\n",
       "</table>\n",
       "</div>"
      ],
      "text/plain": [
       "   a  b\n",
       "1  4  7\n",
       "2  5  8\n",
       "3  6  9"
      ]
     },
     "execution_count": 122,
     "metadata": {},
     "output_type": "execute_result"
    }
   ],
   "source": [
    "# 두 개 이상의 컬럼의 데이터를 가져올 경우 항상 DF화, 리스트 형태로 가져와야 함.\n",
    "df[[\"a\", \"b\"]]"
   ]
  },
  {
   "cell_type": "markdown",
   "id": "09d2f654",
   "metadata": {},
   "source": [
    "## summarize data"
   ]
  },
  {
   "cell_type": "code",
   "execution_count": 125,
   "id": "ceb4caa2",
   "metadata": {
    "scrolled": true
   },
   "outputs": [
    {
     "data": {
      "text/plain": [
       "4    2\n",
       "5    1\n",
       "6    1\n",
       "Name: a, dtype: int64"
      ]
     },
     "execution_count": 125,
     "metadata": {},
     "output_type": "execute_result"
    }
   ],
   "source": [
    "df[\"a\"].value_counts()"
   ]
  },
  {
   "cell_type": "code",
   "execution_count": 126,
   "id": "d85bc8f6",
   "metadata": {},
   "outputs": [
    {
     "data": {
      "text/plain": [
       "4"
      ]
     },
     "execution_count": 126,
     "metadata": {},
     "output_type": "execute_result"
    }
   ],
   "source": [
    "len(df)"
   ]
  },
  {
   "cell_type": "markdown",
   "id": "00992237",
   "metadata": {},
   "source": [
    "# Reshaping"
   ]
  },
  {
   "cell_type": "markdown",
   "id": "b654f8a3",
   "metadata": {},
   "source": [
    "### sort_values, drop"
   ]
  },
  {
   "cell_type": "code",
   "execution_count": 131,
   "id": "19e77973",
   "metadata": {},
   "outputs": [
    {
     "data": {
      "text/plain": [
       "1    4\n",
       "4    4\n",
       "2    5\n",
       "3    6\n",
       "Name: a, dtype: int64"
      ]
     },
     "execution_count": 131,
     "metadata": {},
     "output_type": "execute_result"
    }
   ],
   "source": [
    "df[\"a\"].sort_values()"
   ]
  },
  {
   "cell_type": "code",
   "execution_count": 130,
   "id": "edc61116",
   "metadata": {},
   "outputs": [
    {
     "data": {
      "text/html": [
       "<div>\n",
       "<style scoped>\n",
       "    .dataframe tbody tr th:only-of-type {\n",
       "        vertical-align: middle;\n",
       "    }\n",
       "\n",
       "    .dataframe tbody tr th {\n",
       "        vertical-align: top;\n",
       "    }\n",
       "\n",
       "    .dataframe thead th {\n",
       "        text-align: right;\n",
       "    }\n",
       "</style>\n",
       "<table border=\"1\" class=\"dataframe\">\n",
       "  <thead>\n",
       "    <tr style=\"text-align: right;\">\n",
       "      <th></th>\n",
       "      <th>a</th>\n",
       "      <th>b</th>\n",
       "      <th>c</th>\n",
       "    </tr>\n",
       "  </thead>\n",
       "  <tbody>\n",
       "    <tr>\n",
       "      <th>1</th>\n",
       "      <td>4</td>\n",
       "      <td>7</td>\n",
       "      <td>10</td>\n",
       "    </tr>\n",
       "    <tr>\n",
       "      <th>4</th>\n",
       "      <td>4</td>\n",
       "      <td>9</td>\n",
       "      <td>10</td>\n",
       "    </tr>\n",
       "    <tr>\n",
       "      <th>2</th>\n",
       "      <td>5</td>\n",
       "      <td>8</td>\n",
       "      <td>11</td>\n",
       "    </tr>\n",
       "    <tr>\n",
       "      <th>3</th>\n",
       "      <td>6</td>\n",
       "      <td>9</td>\n",
       "      <td>12</td>\n",
       "    </tr>\n",
       "  </tbody>\n",
       "</table>\n",
       "</div>"
      ],
      "text/plain": [
       "   a  b   c\n",
       "1  4  7  10\n",
       "4  4  9  10\n",
       "2  5  8  11\n",
       "3  6  9  12"
      ]
     },
     "execution_count": 130,
     "metadata": {},
     "output_type": "execute_result"
    }
   ],
   "source": [
    "df.sort_values(\"a\")"
   ]
  },
  {
   "cell_type": "code",
   "execution_count": 132,
   "id": "2ee2ec9a",
   "metadata": {},
   "outputs": [
    {
     "data": {
      "text/html": [
       "<div>\n",
       "<style scoped>\n",
       "    .dataframe tbody tr th:only-of-type {\n",
       "        vertical-align: middle;\n",
       "    }\n",
       "\n",
       "    .dataframe tbody tr th {\n",
       "        vertical-align: top;\n",
       "    }\n",
       "\n",
       "    .dataframe thead th {\n",
       "        text-align: right;\n",
       "    }\n",
       "</style>\n",
       "<table border=\"1\" class=\"dataframe\">\n",
       "  <thead>\n",
       "    <tr style=\"text-align: right;\">\n",
       "      <th></th>\n",
       "      <th>a</th>\n",
       "      <th>b</th>\n",
       "      <th>c</th>\n",
       "    </tr>\n",
       "  </thead>\n",
       "  <tbody>\n",
       "    <tr>\n",
       "      <th>3</th>\n",
       "      <td>6</td>\n",
       "      <td>9</td>\n",
       "      <td>12</td>\n",
       "    </tr>\n",
       "    <tr>\n",
       "      <th>2</th>\n",
       "      <td>5</td>\n",
       "      <td>8</td>\n",
       "      <td>11</td>\n",
       "    </tr>\n",
       "    <tr>\n",
       "      <th>1</th>\n",
       "      <td>4</td>\n",
       "      <td>7</td>\n",
       "      <td>10</td>\n",
       "    </tr>\n",
       "    <tr>\n",
       "      <th>4</th>\n",
       "      <td>4</td>\n",
       "      <td>9</td>\n",
       "      <td>10</td>\n",
       "    </tr>\n",
       "  </tbody>\n",
       "</table>\n",
       "</div>"
      ],
      "text/plain": [
       "   a  b   c\n",
       "3  6  9  12\n",
       "2  5  8  11\n",
       "1  4  7  10\n",
       "4  4  9  10"
      ]
     },
     "execution_count": 132,
     "metadata": {},
     "output_type": "execute_result"
    }
   ],
   "source": [
    "#내림차순\n",
    "df.sort_values(\"a\", ascending = False)"
   ]
  },
  {
   "cell_type": "markdown",
   "id": "fe4932bd",
   "metadata": {},
   "source": [
    "# 도움말 Shift+tab+tab"
   ]
  },
  {
   "cell_type": "code",
   "execution_count": 135,
   "id": "6127fb11",
   "metadata": {},
   "outputs": [
    {
     "data": {
      "text/html": [
       "<div>\n",
       "<style scoped>\n",
       "    .dataframe tbody tr th:only-of-type {\n",
       "        vertical-align: middle;\n",
       "    }\n",
       "\n",
       "    .dataframe tbody tr th {\n",
       "        vertical-align: top;\n",
       "    }\n",
       "\n",
       "    .dataframe thead th {\n",
       "        text-align: right;\n",
       "    }\n",
       "</style>\n",
       "<table border=\"1\" class=\"dataframe\">\n",
       "  <thead>\n",
       "    <tr style=\"text-align: right;\">\n",
       "      <th></th>\n",
       "      <th>a</th>\n",
       "      <th>b</th>\n",
       "    </tr>\n",
       "  </thead>\n",
       "  <tbody>\n",
       "    <tr>\n",
       "      <th>1</th>\n",
       "      <td>4</td>\n",
       "      <td>7</td>\n",
       "    </tr>\n",
       "    <tr>\n",
       "      <th>2</th>\n",
       "      <td>5</td>\n",
       "      <td>8</td>\n",
       "    </tr>\n",
       "    <tr>\n",
       "      <th>3</th>\n",
       "      <td>6</td>\n",
       "      <td>9</td>\n",
       "    </tr>\n",
       "    <tr>\n",
       "      <th>4</th>\n",
       "      <td>4</td>\n",
       "      <td>9</td>\n",
       "    </tr>\n",
       "  </tbody>\n",
       "</table>\n",
       "</div>"
      ],
      "text/plain": [
       "   a  b\n",
       "1  4  7\n",
       "2  5  8\n",
       "3  6  9\n",
       "4  4  9"
      ]
     },
     "execution_count": 135,
     "metadata": {},
     "output_type": "execute_result"
    }
   ],
   "source": [
    "# pd.dataframe(shift+tab+tab) 활용 시 도움말 활용 가능\n",
    "df = df.drop([\"c\"], axis=1)\n",
    "df"
   ]
  },
  {
   "cell_type": "markdown",
   "id": "93f5ba62",
   "metadata": {},
   "source": [
    "# Group Data"
   ]
  },
  {
   "cell_type": "markdown",
   "id": "a1f9f0d6",
   "metadata": {},
   "source": [
    "### Groupby, pivot_table"
   ]
  },
  {
   "cell_type": "code",
   "execution_count": 136,
   "id": "9b64c254",
   "metadata": {},
   "outputs": [
    {
     "data": {
      "text/plain": [
       "a\n",
       "4    8.0\n",
       "5    8.0\n",
       "6    9.0\n",
       "Name: b, dtype: float64"
      ]
     },
     "execution_count": 136,
     "metadata": {},
     "output_type": "execute_result"
    }
   ],
   "source": [
    "# a컬럼으로 groupby 해서 b라는 컬럼 값으로 평균 값을 구하라\n",
    "df.groupby([\"a\"])[\"b\"].mean()"
   ]
  },
  {
   "cell_type": "code",
   "execution_count": 139,
   "id": "d3ad0bac",
   "metadata": {},
   "outputs": [
    {
     "data": {
      "text/html": [
       "<div>\n",
       "<style scoped>\n",
       "    .dataframe tbody tr th:only-of-type {\n",
       "        vertical-align: middle;\n",
       "    }\n",
       "\n",
       "    .dataframe tbody tr th {\n",
       "        vertical-align: top;\n",
       "    }\n",
       "\n",
       "    .dataframe thead th {\n",
       "        text-align: right;\n",
       "    }\n",
       "</style>\n",
       "<table border=\"1\" class=\"dataframe\">\n",
       "  <thead>\n",
       "    <tr style=\"text-align: right;\">\n",
       "      <th></th>\n",
       "      <th>mean</th>\n",
       "      <th>sum</th>\n",
       "      <th>count</th>\n",
       "    </tr>\n",
       "    <tr>\n",
       "      <th>a</th>\n",
       "      <th></th>\n",
       "      <th></th>\n",
       "      <th></th>\n",
       "    </tr>\n",
       "  </thead>\n",
       "  <tbody>\n",
       "    <tr>\n",
       "      <th>4</th>\n",
       "      <td>8.0</td>\n",
       "      <td>16</td>\n",
       "      <td>2</td>\n",
       "    </tr>\n",
       "    <tr>\n",
       "      <th>5</th>\n",
       "      <td>8.0</td>\n",
       "      <td>8</td>\n",
       "      <td>1</td>\n",
       "    </tr>\n",
       "    <tr>\n",
       "      <th>6</th>\n",
       "      <td>9.0</td>\n",
       "      <td>9</td>\n",
       "      <td>1</td>\n",
       "    </tr>\n",
       "  </tbody>\n",
       "</table>\n",
       "</div>"
      ],
      "text/plain": [
       "   mean  sum  count\n",
       "a                  \n",
       "4   8.0   16      2\n",
       "5   8.0    8      1\n",
       "6   9.0    9      1"
      ]
     },
     "execution_count": 139,
     "metadata": {},
     "output_type": "execute_result"
    }
   ],
   "source": [
    "df.groupby([\"a\"])[\"b\"].agg([\"mean\", \"sum\", 'count'])"
   ]
  },
  {
   "cell_type": "code",
   "execution_count": 141,
   "id": "c855a1ad",
   "metadata": {},
   "outputs": [
    {
     "data": {
      "text/html": [
       "<div>\n",
       "<style scoped>\n",
       "    .dataframe tbody tr th:only-of-type {\n",
       "        vertical-align: middle;\n",
       "    }\n",
       "\n",
       "    .dataframe tbody tr th {\n",
       "        vertical-align: top;\n",
       "    }\n",
       "\n",
       "    .dataframe thead th {\n",
       "        text-align: right;\n",
       "    }\n",
       "</style>\n",
       "<table border=\"1\" class=\"dataframe\">\n",
       "  <thead>\n",
       "    <tr style=\"text-align: right;\">\n",
       "      <th></th>\n",
       "      <th>count</th>\n",
       "      <th>mean</th>\n",
       "      <th>std</th>\n",
       "      <th>min</th>\n",
       "      <th>25%</th>\n",
       "      <th>50%</th>\n",
       "      <th>75%</th>\n",
       "      <th>max</th>\n",
       "    </tr>\n",
       "    <tr>\n",
       "      <th>a</th>\n",
       "      <th></th>\n",
       "      <th></th>\n",
       "      <th></th>\n",
       "      <th></th>\n",
       "      <th></th>\n",
       "      <th></th>\n",
       "      <th></th>\n",
       "      <th></th>\n",
       "    </tr>\n",
       "  </thead>\n",
       "  <tbody>\n",
       "    <tr>\n",
       "      <th>4</th>\n",
       "      <td>2.0</td>\n",
       "      <td>8.0</td>\n",
       "      <td>1.414214</td>\n",
       "      <td>7.0</td>\n",
       "      <td>7.5</td>\n",
       "      <td>8.0</td>\n",
       "      <td>8.5</td>\n",
       "      <td>9.0</td>\n",
       "    </tr>\n",
       "    <tr>\n",
       "      <th>5</th>\n",
       "      <td>1.0</td>\n",
       "      <td>8.0</td>\n",
       "      <td>NaN</td>\n",
       "      <td>8.0</td>\n",
       "      <td>8.0</td>\n",
       "      <td>8.0</td>\n",
       "      <td>8.0</td>\n",
       "      <td>8.0</td>\n",
       "    </tr>\n",
       "    <tr>\n",
       "      <th>6</th>\n",
       "      <td>1.0</td>\n",
       "      <td>9.0</td>\n",
       "      <td>NaN</td>\n",
       "      <td>9.0</td>\n",
       "      <td>9.0</td>\n",
       "      <td>9.0</td>\n",
       "      <td>9.0</td>\n",
       "      <td>9.0</td>\n",
       "    </tr>\n",
       "  </tbody>\n",
       "</table>\n",
       "</div>"
      ],
      "text/plain": [
       "   count  mean       std  min  25%  50%  75%  max\n",
       "a                                                \n",
       "4    2.0   8.0  1.414214  7.0  7.5  8.0  8.5  9.0\n",
       "5    1.0   8.0       NaN  8.0  8.0  8.0  8.0  8.0\n",
       "6    1.0   9.0       NaN  9.0  9.0  9.0  9.0  9.0"
      ]
     },
     "execution_count": 141,
     "metadata": {},
     "output_type": "execute_result"
    }
   ],
   "source": [
    "df.groupby([\"a\"])[\"b\"].describe()"
   ]
  },
  {
   "cell_type": "code",
   "execution_count": 145,
   "id": "539dac65",
   "metadata": {},
   "outputs": [
    {
     "data": {
      "text/html": [
       "<div>\n",
       "<style scoped>\n",
       "    .dataframe tbody tr th:only-of-type {\n",
       "        vertical-align: middle;\n",
       "    }\n",
       "\n",
       "    .dataframe tbody tr th {\n",
       "        vertical-align: top;\n",
       "    }\n",
       "\n",
       "    .dataframe thead th {\n",
       "        text-align: right;\n",
       "    }\n",
       "</style>\n",
       "<table border=\"1\" class=\"dataframe\">\n",
       "  <thead>\n",
       "    <tr style=\"text-align: right;\">\n",
       "      <th></th>\n",
       "      <th>b</th>\n",
       "    </tr>\n",
       "    <tr>\n",
       "      <th>a</th>\n",
       "      <th></th>\n",
       "    </tr>\n",
       "  </thead>\n",
       "  <tbody>\n",
       "    <tr>\n",
       "      <th>4</th>\n",
       "      <td>8</td>\n",
       "    </tr>\n",
       "    <tr>\n",
       "      <th>5</th>\n",
       "      <td>8</td>\n",
       "    </tr>\n",
       "    <tr>\n",
       "      <th>6</th>\n",
       "      <td>9</td>\n",
       "    </tr>\n",
       "  </tbody>\n",
       "</table>\n",
       "</div>"
      ],
      "text/plain": [
       "   b\n",
       "a   \n",
       "4  8\n",
       "5  8\n",
       "6  9"
      ]
     },
     "execution_count": 145,
     "metadata": {},
     "output_type": "execute_result"
    }
   ],
   "source": [
    "pd.pivot_table(df, index=\"a\")"
   ]
  },
  {
   "cell_type": "code",
   "execution_count": 146,
   "id": "3b69697e",
   "metadata": {},
   "outputs": [
    {
     "data": {
      "text/html": [
       "<div>\n",
       "<style scoped>\n",
       "    .dataframe tbody tr th:only-of-type {\n",
       "        vertical-align: middle;\n",
       "    }\n",
       "\n",
       "    .dataframe tbody tr th {\n",
       "        vertical-align: top;\n",
       "    }\n",
       "\n",
       "    .dataframe thead th {\n",
       "        text-align: right;\n",
       "    }\n",
       "</style>\n",
       "<table border=\"1\" class=\"dataframe\">\n",
       "  <thead>\n",
       "    <tr style=\"text-align: right;\">\n",
       "      <th></th>\n",
       "      <th>b</th>\n",
       "    </tr>\n",
       "    <tr>\n",
       "      <th>a</th>\n",
       "      <th></th>\n",
       "    </tr>\n",
       "  </thead>\n",
       "  <tbody>\n",
       "    <tr>\n",
       "      <th>4</th>\n",
       "      <td>16</td>\n",
       "    </tr>\n",
       "    <tr>\n",
       "      <th>5</th>\n",
       "      <td>8</td>\n",
       "    </tr>\n",
       "    <tr>\n",
       "      <th>6</th>\n",
       "      <td>9</td>\n",
       "    </tr>\n",
       "  </tbody>\n",
       "</table>\n",
       "</div>"
      ],
      "text/plain": [
       "    b\n",
       "a    \n",
       "4  16\n",
       "5   8\n",
       "6   9"
      ]
     },
     "execution_count": 146,
     "metadata": {},
     "output_type": "execute_result"
    }
   ],
   "source": [
    "pd.pivot_table(df, index=\"a\", values = \"b\", aggfunc=\"sum\")"
   ]
  },
  {
   "cell_type": "markdown",
   "id": "946acaea",
   "metadata": {},
   "source": [
    "# Plotting"
   ]
  },
  {
   "cell_type": "code",
   "execution_count": 150,
   "id": "db323184",
   "metadata": {},
   "outputs": [
    {
     "data": {
      "text/plain": [
       "<AxesSubplot: ylabel='Density'>"
      ]
     },
     "execution_count": 150,
     "metadata": {},
     "output_type": "execute_result"
    },
    {
     "data": {
      "image/png": "[encoded data removed]",
      "text/plain": [
       "<Figure size 640x480 with 1 Axes>"
      ]
     },
     "metadata": {},
     "output_type": "display_data"
    }
   ],
   "source": [
    "df.plot.density()"
   ]
  },
  {
   "cell_type": "markdown",
   "id": "121e1b22",
   "metadata": {},
   "source": [
    "# 1. 절대 경로\n",
    "- 절대경로는 어떠한 웹페이지나 파일이 가진 고유한 경로로 최상위 디렉토리가 포함된 경로\n",
    "- 예) file://Users/user/downloads/"
   ]
  },
  {
   "cell_type": "markdown",
   "id": "a73247f7",
   "metadata": {},
   "source": [
    "# 2. 상대 경로\n",
    "- 상대경로는 현재 위치한 곳을 기준으로 하는 경로\n",
    "- /는 루트\n",
    "- ./는 현재 위치\n",
    "- ../는 현재 위치의 상위 폴더\n",
    "- ../../는 두 단계 위의 상위폴더"
   ]
  },
  {
   "cell_type": "code",
   "execution_count": 1,
   "id": "47b06d5d",
   "metadata": {},
   "outputs": [
    {
     "data": {
      "text/plain": [
       "'/Users/kanovatio/Gangmin Jeong/hands-on data'"
      ]
     },
     "execution_count": 1,
     "metadata": {},
     "output_type": "execute_result"
    }
   ],
   "source": [
    "# 실습 파일 경로 확인\n",
    "%pwd"
   ]
  },
  {
   "cell_type": "code",
   "execution_count": 5,
   "id": "164ad1cd",
   "metadata": {},
   "outputs": [],
   "source": [
    "import pandas as pd"
   ]
  },
  {
   "cell_type": "code",
   "execution_count": 2,
   "id": "d7d9baa2",
   "metadata": {},
   "outputs": [
    {
     "data": {
      "text/plain": [
       "'/Users/kanovatio/Gangmin Jeong/hands-on data'"
      ]
     },
     "execution_count": 2,
     "metadata": {},
     "output_type": "execute_result"
    }
   ],
   "source": [
    "import os\n",
    "os.getcwd()"
   ]
  },
  {
   "cell_type": "code",
   "execution_count": 14,
   "id": "22682ac1",
   "metadata": {},
   "outputs": [
    {
     "data": {
      "text/plain": [
       "'data/도로교통공단_월별 주야별 교통사고 통계_20211231.csv'"
      ]
     },
     "execution_count": 14,
     "metadata": {},
     "output_type": "execute_result"
    }
   ],
   "source": [
    "from glob import glob\n",
    "file_name = glob(\"data/*\")[0]\n",
    "file_name"
   ]
  },
  {
   "cell_type": "code",
   "execution_count": 15,
   "id": "0a46022b",
   "metadata": {},
   "outputs": [],
   "source": [
    "data = pd.read_csv(file_name, encoding=\"cp949\")"
   ]
  },
  {
   "cell_type": "code",
   "execution_count": 8,
   "id": "d0536be5",
   "metadata": {
    "scrolled": true
   },
   "outputs": [
    {
     "data": {
      "text/html": [
       "<div>\n",
       "<style scoped>\n",
       "    .dataframe tbody tr th:only-of-type {\n",
       "        vertical-align: middle;\n",
       "    }\n",
       "\n",
       "    .dataframe tbody tr th {\n",
       "        vertical-align: top;\n",
       "    }\n",
       "\n",
       "    .dataframe thead th {\n",
       "        text-align: right;\n",
       "    }\n",
       "</style>\n",
       "<table border=\"1\" class=\"dataframe\">\n",
       "  <thead>\n",
       "    <tr style=\"text-align: right;\">\n",
       "      <th></th>\n",
       "      <th>발생월</th>\n",
       "      <th>주야</th>\n",
       "      <th>사고건수</th>\n",
       "      <th>사망자수</th>\n",
       "      <th>중상자수</th>\n",
       "      <th>경상자수</th>\n",
       "      <th>부상신고자수</th>\n",
       "    </tr>\n",
       "  </thead>\n",
       "  <tbody>\n",
       "    <tr>\n",
       "      <th>0</th>\n",
       "      <td>1</td>\n",
       "      <td>주</td>\n",
       "      <td>8821</td>\n",
       "      <td>107</td>\n",
       "      <td>2421</td>\n",
       "      <td>9631</td>\n",
       "      <td>707</td>\n",
       "    </tr>\n",
       "    <tr>\n",
       "      <th>1</th>\n",
       "      <td>1</td>\n",
       "      <td>야</td>\n",
       "      <td>6088</td>\n",
       "      <td>90</td>\n",
       "      <td>1627</td>\n",
       "      <td>6510</td>\n",
       "      <td>427</td>\n",
       "    </tr>\n",
       "    <tr>\n",
       "      <th>2</th>\n",
       "      <td>2</td>\n",
       "      <td>주</td>\n",
       "      <td>8756</td>\n",
       "      <td>107</td>\n",
       "      <td>2468</td>\n",
       "      <td>9681</td>\n",
       "      <td>670</td>\n",
       "    </tr>\n",
       "    <tr>\n",
       "      <th>3</th>\n",
       "      <td>2</td>\n",
       "      <td>야</td>\n",
       "      <td>5755</td>\n",
       "      <td>96</td>\n",
       "      <td>1572</td>\n",
       "      <td>6286</td>\n",
       "      <td>483</td>\n",
       "    </tr>\n",
       "    <tr>\n",
       "      <th>4</th>\n",
       "      <td>3</td>\n",
       "      <td>주</td>\n",
       "      <td>10274</td>\n",
       "      <td>128</td>\n",
       "      <td>2787</td>\n",
       "      <td>11163</td>\n",
       "      <td>820</td>\n",
       "    </tr>\n",
       "    <tr>\n",
       "      <th>5</th>\n",
       "      <td>3</td>\n",
       "      <td>야</td>\n",
       "      <td>6326</td>\n",
       "      <td>81</td>\n",
       "      <td>1775</td>\n",
       "      <td>6859</td>\n",
       "      <td>524</td>\n",
       "    </tr>\n",
       "    <tr>\n",
       "      <th>6</th>\n",
       "      <td>4</td>\n",
       "      <td>주</td>\n",
       "      <td>11032</td>\n",
       "      <td>119</td>\n",
       "      <td>3105</td>\n",
       "      <td>11935</td>\n",
       "      <td>819</td>\n",
       "    </tr>\n",
       "    <tr>\n",
       "      <th>7</th>\n",
       "      <td>4</td>\n",
       "      <td>야</td>\n",
       "      <td>6371</td>\n",
       "      <td>93</td>\n",
       "      <td>1878</td>\n",
       "      <td>6887</td>\n",
       "      <td>518</td>\n",
       "    </tr>\n",
       "    <tr>\n",
       "      <th>8</th>\n",
       "      <td>5</td>\n",
       "      <td>주</td>\n",
       "      <td>11025</td>\n",
       "      <td>154</td>\n",
       "      <td>3010</td>\n",
       "      <td>12132</td>\n",
       "      <td>922</td>\n",
       "    </tr>\n",
       "    <tr>\n",
       "      <th>9</th>\n",
       "      <td>5</td>\n",
       "      <td>야</td>\n",
       "      <td>6353</td>\n",
       "      <td>101</td>\n",
       "      <td>1762</td>\n",
       "      <td>6779</td>\n",
       "      <td>520</td>\n",
       "    </tr>\n",
       "    <tr>\n",
       "      <th>10</th>\n",
       "      <td>6</td>\n",
       "      <td>주</td>\n",
       "      <td>11310</td>\n",
       "      <td>124</td>\n",
       "      <td>3286</td>\n",
       "      <td>12244</td>\n",
       "      <td>865</td>\n",
       "    </tr>\n",
       "    <tr>\n",
       "      <th>11</th>\n",
       "      <td>6</td>\n",
       "      <td>야</td>\n",
       "      <td>6265</td>\n",
       "      <td>103</td>\n",
       "      <td>1733</td>\n",
       "      <td>6593</td>\n",
       "      <td>569</td>\n",
       "    </tr>\n",
       "    <tr>\n",
       "      <th>12</th>\n",
       "      <td>7</td>\n",
       "      <td>주</td>\n",
       "      <td>11408</td>\n",
       "      <td>139</td>\n",
       "      <td>3132</td>\n",
       "      <td>12435</td>\n",
       "      <td>892</td>\n",
       "    </tr>\n",
       "    <tr>\n",
       "      <th>13</th>\n",
       "      <td>7</td>\n",
       "      <td>야</td>\n",
       "      <td>6586</td>\n",
       "      <td>115</td>\n",
       "      <td>1829</td>\n",
       "      <td>7024</td>\n",
       "      <td>558</td>\n",
       "    </tr>\n",
       "    <tr>\n",
       "      <th>14</th>\n",
       "      <td>8</td>\n",
       "      <td>주</td>\n",
       "      <td>10407</td>\n",
       "      <td>129</td>\n",
       "      <td>2878</td>\n",
       "      <td>11541</td>\n",
       "      <td>854</td>\n",
       "    </tr>\n",
       "    <tr>\n",
       "      <th>15</th>\n",
       "      <td>8</td>\n",
       "      <td>야</td>\n",
       "      <td>6011</td>\n",
       "      <td>118</td>\n",
       "      <td>1638</td>\n",
       "      <td>6365</td>\n",
       "      <td>506</td>\n",
       "    </tr>\n",
       "    <tr>\n",
       "      <th>16</th>\n",
       "      <td>9</td>\n",
       "      <td>주</td>\n",
       "      <td>10869</td>\n",
       "      <td>131</td>\n",
       "      <td>2959</td>\n",
       "      <td>11885</td>\n",
       "      <td>856</td>\n",
       "    </tr>\n",
       "    <tr>\n",
       "      <th>17</th>\n",
       "      <td>9</td>\n",
       "      <td>야</td>\n",
       "      <td>6143</td>\n",
       "      <td>115</td>\n",
       "      <td>1747</td>\n",
       "      <td>6299</td>\n",
       "      <td>506</td>\n",
       "    </tr>\n",
       "    <tr>\n",
       "      <th>18</th>\n",
       "      <td>10</td>\n",
       "      <td>주</td>\n",
       "      <td>11229</td>\n",
       "      <td>156</td>\n",
       "      <td>3064</td>\n",
       "      <td>12129</td>\n",
       "      <td>882</td>\n",
       "    </tr>\n",
       "    <tr>\n",
       "      <th>19</th>\n",
       "      <td>10</td>\n",
       "      <td>야</td>\n",
       "      <td>7071</td>\n",
       "      <td>156</td>\n",
       "      <td>1935</td>\n",
       "      <td>7732</td>\n",
       "      <td>565</td>\n",
       "    </tr>\n",
       "    <tr>\n",
       "      <th>20</th>\n",
       "      <td>11</td>\n",
       "      <td>주</td>\n",
       "      <td>11223</td>\n",
       "      <td>163</td>\n",
       "      <td>3124</td>\n",
       "      <td>11890</td>\n",
       "      <td>922</td>\n",
       "    </tr>\n",
       "    <tr>\n",
       "      <th>21</th>\n",
       "      <td>11</td>\n",
       "      <td>야</td>\n",
       "      <td>6873</td>\n",
       "      <td>122</td>\n",
       "      <td>1884</td>\n",
       "      <td>7284</td>\n",
       "      <td>602</td>\n",
       "    </tr>\n",
       "    <tr>\n",
       "      <th>22</th>\n",
       "      <td>12</td>\n",
       "      <td>주</td>\n",
       "      <td>10318</td>\n",
       "      <td>149</td>\n",
       "      <td>2658</td>\n",
       "      <td>10936</td>\n",
       "      <td>916</td>\n",
       "    </tr>\n",
       "    <tr>\n",
       "      <th>23</th>\n",
       "      <td>12</td>\n",
       "      <td>야</td>\n",
       "      <td>6616</td>\n",
       "      <td>120</td>\n",
       "      <td>1633</td>\n",
       "      <td>7063</td>\n",
       "      <td>517</td>\n",
       "    </tr>\n",
       "  </tbody>\n",
       "</table>\n",
       "</div>"
      ],
      "text/plain": [
       "    발생월 주야   사고건수  사망자수  중상자수   경상자수  부상신고자수\n",
       "0     1  주   8821   107  2421   9631     707\n",
       "1     1  야   6088    90  1627   6510     427\n",
       "2     2  주   8756   107  2468   9681     670\n",
       "3     2  야   5755    96  1572   6286     483\n",
       "4     3  주  10274   128  2787  11163     820\n",
       "5     3  야   6326    81  1775   6859     524\n",
       "6     4  주  11032   119  3105  11935     819\n",
       "7     4  야   6371    93  1878   6887     518\n",
       "8     5  주  11025   154  3010  12132     922\n",
       "9     5  야   6353   101  1762   6779     520\n",
       "10    6  주  11310   124  3286  12244     865\n",
       "11    6  야   6265   103  1733   6593     569\n",
       "12    7  주  11408   139  3132  12435     892\n",
       "13    7  야   6586   115  1829   7024     558\n",
       "14    8  주  10407   129  2878  11541     854\n",
       "15    8  야   6011   118  1638   6365     506\n",
       "16    9  주  10869   131  2959  11885     856\n",
       "17    9  야   6143   115  1747   6299     506\n",
       "18   10  주  11229   156  3064  12129     882\n",
       "19   10  야   7071   156  1935   7732     565\n",
       "20   11  주  11223   163  3124  11890     922\n",
       "21   11  야   6873   122  1884   7284     602\n",
       "22   12  주  10318   149  2658  10936     916\n",
       "23   12  야   6616   120  1633   7063     517"
      ]
     },
     "execution_count": 8,
     "metadata": {},
     "output_type": "execute_result"
    }
   ],
   "source": [
    "data = pd.read_csv(\"data/도로교통공단_월별 주야별 교통사고 통계_20211231.csv\", encoding=\"cp949\")\n",
    "data"
   ]
  },
  {
   "cell_type": "markdown",
   "id": "ad2c1fd2",
   "metadata": {},
   "source": [
    "## 3. 여러 파일을 한번에 로드하는 방법"
   ]
  },
  {
   "cell_type": "code",
   "execution_count": 23,
   "id": "e726616c",
   "metadata": {
    "scrolled": false
   },
   "outputs": [
    {
     "data": {
      "text/plain": [
       "['data/store/소상공인시장진흥공단_상가(상권)정보_부산_202212.csv',\n",
       " 'data/store/소상공인시장진흥공단_상가(상권)정보_대구_202212.csv',\n",
       " 'data/store/소상공인시장진흥공단_상가(상권)정보_세종_202212.csv',\n",
       " 'data/store/소상공인시장진흥공단_상가(상권)정보_제주_202212.csv',\n",
       " 'data/store/소상공인시장진흥공단_상가(상권)정보_경기_202212.csv',\n",
       " 'data/store/소상공인시장진흥공단_상가(상권)정보_울산_202212.csv',\n",
       " 'data/store/소상공인시장진흥공단_상가(상권)정보_서울_202212.csv',\n",
       " 'data/store/소상공인시장진흥공단_상가(상권)정보_대전_202212.csv',\n",
       " 'data/store/소상공인시장진흥공단_상가(상권)정보_충남_202212.csv',\n",
       " 'data/store/소상공인시장진흥공단_상가(상권)정보_충북_202212.csv',\n",
       " 'data/store/소상공인시장진흥공단_상가(상권)정보_강원_202212.csv',\n",
       " 'data/store/소상공인시장진흥공단_상가(상권)정보_광주_202212.csv',\n",
       " 'data/store/소상공인시장진흥공단_상가(상권)정보_인천_202212.csv',\n",
       " 'data/store/소상공인시장진흥공단_상가(상권)정보_전남_202212.csv',\n",
       " 'data/store/소상공인시장진흥공단_상가(상권)정보_경남_202212.csv',\n",
       " 'data/store/소상공인시장진흥공단_상가(상권)정보_경북_202212.csv',\n",
       " 'data/store/소상공인시장진흥공단_상가(상권)정보_전북_202212.csv']"
      ]
     },
     "execution_count": 23,
     "metadata": {},
     "output_type": "execute_result"
    }
   ],
   "source": [
    "file_csv = glob(\"data/store/소상공인*.csv\")\n",
    "file_csv"
   ]
  },
  {
   "cell_type": "code",
   "execution_count": 26,
   "id": "81d5bf58",
   "metadata": {
    "scrolled": true
   },
   "outputs": [
    {
     "name": "stdout",
     "output_type": "stream",
     "text": [
      "data/store/소상공인시장진흥공단_상가(상권)정보_부산_202212.csv\n",
      "data/store/소상공인시장진흥공단_상가(상권)정보_대구_202212.csv\n",
      "data/store/소상공인시장진흥공단_상가(상권)정보_세종_202212.csv\n",
      "data/store/소상공인시장진흥공단_상가(상권)정보_제주_202212.csv\n",
      "data/store/소상공인시장진흥공단_상가(상권)정보_경기_202212.csv\n",
      "data/store/소상공인시장진흥공단_상가(상권)정보_울산_202212.csv\n"
     ]
    },
    {
     "name": "stderr",
     "output_type": "stream",
     "text": [
      "/var/folders/9t/s4kfwbj54wj1sw01v7vtb68h0000gn/T/ipykernel_16260/1198727019.py:4: DtypeWarning: Columns (35) have mixed types. Specify dtype option on import or set low_memory=False.\n",
      "  temp = pd.read_csv(file_csv_name)\n"
     ]
    },
    {
     "name": "stdout",
     "output_type": "stream",
     "text": [
      "data/store/소상공인시장진흥공단_상가(상권)정보_서울_202212.csv\n",
      "data/store/소상공인시장진흥공단_상가(상권)정보_대전_202212.csv\n",
      "data/store/소상공인시장진흥공단_상가(상권)정보_충남_202212.csv\n"
     ]
    },
    {
     "name": "stderr",
     "output_type": "stream",
     "text": [
      "/var/folders/9t/s4kfwbj54wj1sw01v7vtb68h0000gn/T/ipykernel_16260/1198727019.py:4: DtypeWarning: Columns (35) have mixed types. Specify dtype option on import or set low_memory=False.\n",
      "  temp = pd.read_csv(file_csv_name)\n"
     ]
    },
    {
     "name": "stdout",
     "output_type": "stream",
     "text": [
      "data/store/소상공인시장진흥공단_상가(상권)정보_충북_202212.csv\n"
     ]
    },
    {
     "name": "stderr",
     "output_type": "stream",
     "text": [
      "/var/folders/9t/s4kfwbj54wj1sw01v7vtb68h0000gn/T/ipykernel_16260/1198727019.py:4: DtypeWarning: Columns (35) have mixed types. Specify dtype option on import or set low_memory=False.\n",
      "  temp = pd.read_csv(file_csv_name)\n"
     ]
    },
    {
     "name": "stdout",
     "output_type": "stream",
     "text": [
      "data/store/소상공인시장진흥공단_상가(상권)정보_강원_202212.csv\n",
      "data/store/소상공인시장진흥공단_상가(상권)정보_광주_202212.csv\n",
      "data/store/소상공인시장진흥공단_상가(상권)정보_인천_202212.csv\n",
      "data/store/소상공인시장진흥공단_상가(상권)정보_전남_202212.csv\n"
     ]
    },
    {
     "name": "stderr",
     "output_type": "stream",
     "text": [
      "/var/folders/9t/s4kfwbj54wj1sw01v7vtb68h0000gn/T/ipykernel_16260/1198727019.py:4: DtypeWarning: Columns (35) have mixed types. Specify dtype option on import or set low_memory=False.\n",
      "  temp = pd.read_csv(file_csv_name)\n"
     ]
    },
    {
     "name": "stdout",
     "output_type": "stream",
     "text": [
      "data/store/소상공인시장진흥공단_상가(상권)정보_경남_202212.csv\n"
     ]
    },
    {
     "name": "stderr",
     "output_type": "stream",
     "text": [
      "/var/folders/9t/s4kfwbj54wj1sw01v7vtb68h0000gn/T/ipykernel_16260/1198727019.py:4: DtypeWarning: Columns (35) have mixed types. Specify dtype option on import or set low_memory=False.\n",
      "  temp = pd.read_csv(file_csv_name)\n"
     ]
    },
    {
     "name": "stdout",
     "output_type": "stream",
     "text": [
      "data/store/소상공인시장진흥공단_상가(상권)정보_경북_202212.csv\n"
     ]
    },
    {
     "name": "stderr",
     "output_type": "stream",
     "text": [
      "/var/folders/9t/s4kfwbj54wj1sw01v7vtb68h0000gn/T/ipykernel_16260/1198727019.py:4: DtypeWarning: Columns (35) have mixed types. Specify dtype option on import or set low_memory=False.\n",
      "  temp = pd.read_csv(file_csv_name)\n"
     ]
    },
    {
     "name": "stdout",
     "output_type": "stream",
     "text": [
      "data/store/소상공인시장진흥공단_상가(상권)정보_전북_202212.csv\n"
     ]
    },
    {
     "name": "stderr",
     "output_type": "stream",
     "text": [
      "/var/folders/9t/s4kfwbj54wj1sw01v7vtb68h0000gn/T/ipykernel_16260/1198727019.py:4: DtypeWarning: Columns (35) have mixed types. Specify dtype option on import or set low_memory=False.\n",
      "  temp = pd.read_csv(file_csv_name)\n"
     ]
    }
   ],
   "source": [
    "file_list = []\n",
    "for file_csv_name in file_csv : \n",
    "    print(file_csv_name)\n",
    "    temp = pd.read_csv(file_csv_name)\n",
    "    file_list.append(temp)"
   ]
  },
  {
   "cell_type": "code",
   "execution_count": 30,
   "id": "662ddfad",
   "metadata": {},
   "outputs": [
    {
     "data": {
      "text/plain": [
       "(2532877, 39)"
      ]
     },
     "execution_count": 30,
     "metadata": {},
     "output_type": "execute_result"
    }
   ],
   "source": [
    "# 컬럼명이 같다는 전제 하 하나의 데이터프레임으로 합쳐줌.\n",
    "df = pd.concat(file_list)\n",
    "df.shape"
   ]
  },
  {
   "cell_type": "code",
   "execution_count": 31,
   "id": "d8d6ec4d",
   "metadata": {},
   "outputs": [
    {
     "data": {
      "text/html": [
       "<div>\n",
       "<style scoped>\n",
       "    .dataframe tbody tr th:only-of-type {\n",
       "        vertical-align: middle;\n",
       "    }\n",
       "\n",
       "    .dataframe tbody tr th {\n",
       "        vertical-align: top;\n",
       "    }\n",
       "\n",
       "    .dataframe thead th {\n",
       "        text-align: right;\n",
       "    }\n",
       "</style>\n",
       "<table border=\"1\" class=\"dataframe\">\n",
       "  <thead>\n",
       "    <tr style=\"text-align: right;\">\n",
       "      <th></th>\n",
       "      <th>상가업소번호</th>\n",
       "      <th>상호명</th>\n",
       "      <th>지점명</th>\n",
       "      <th>상권업종대분류코드</th>\n",
       "      <th>상권업종대분류명</th>\n",
       "      <th>상권업종중분류코드</th>\n",
       "      <th>상권업종중분류명</th>\n",
       "      <th>상권업종소분류코드</th>\n",
       "      <th>상권업종소분류명</th>\n",
       "      <th>표준산업분류코드</th>\n",
       "      <th>...</th>\n",
       "      <th>건물관리번호</th>\n",
       "      <th>건물명</th>\n",
       "      <th>도로명주소</th>\n",
       "      <th>구우편번호</th>\n",
       "      <th>신우편번호</th>\n",
       "      <th>동정보</th>\n",
       "      <th>층정보</th>\n",
       "      <th>호정보</th>\n",
       "      <th>경도</th>\n",
       "      <th>위도</th>\n",
       "    </tr>\n",
       "  </thead>\n",
       "  <tbody>\n",
       "    <tr>\n",
       "      <th>0</th>\n",
       "      <td>23206623</td>\n",
       "      <td>미광장</td>\n",
       "      <td>NaN</td>\n",
       "      <td>O</td>\n",
       "      <td>숙박</td>\n",
       "      <td>O02</td>\n",
       "      <td>모텔/여관/여인숙</td>\n",
       "      <td>O02A01</td>\n",
       "      <td>모텔/여관/여인숙</td>\n",
       "      <td>I55112</td>\n",
       "      <td>...</td>\n",
       "      <td>2611012600100250001004473</td>\n",
       "      <td>NaN</td>\n",
       "      <td>부산광역시 중구 보수대로44번길 5</td>\n",
       "      <td>600074.0</td>\n",
       "      <td>48974.0</td>\n",
       "      <td>NaN</td>\n",
       "      <td>NaN</td>\n",
       "      <td>NaN</td>\n",
       "      <td>129.023668</td>\n",
       "      <td>35.100979</td>\n",
       "    </tr>\n",
       "    <tr>\n",
       "      <th>1</th>\n",
       "      <td>20418637</td>\n",
       "      <td>BHC치킨</td>\n",
       "      <td>동래점</td>\n",
       "      <td>Q</td>\n",
       "      <td>음식</td>\n",
       "      <td>Q05</td>\n",
       "      <td>닭/오리요리</td>\n",
       "      <td>Q05A08</td>\n",
       "      <td>후라이드/양념치킨</td>\n",
       "      <td>I56193</td>\n",
       "      <td>...</td>\n",
       "      <td>2626010500101850000016529</td>\n",
       "      <td>NaN</td>\n",
       "      <td>부산광역시 동래구 동래로147번길 18</td>\n",
       "      <td>607020.0</td>\n",
       "      <td>47802.0</td>\n",
       "      <td>NaN</td>\n",
       "      <td>NaN</td>\n",
       "      <td>NaN</td>\n",
       "      <td>129.087156</td>\n",
       "      <td>35.205267</td>\n",
       "    </tr>\n",
       "    <tr>\n",
       "      <th>2</th>\n",
       "      <td>24659633</td>\n",
       "      <td>스텔라</td>\n",
       "      <td>NaN</td>\n",
       "      <td>D</td>\n",
       "      <td>소매</td>\n",
       "      <td>D05</td>\n",
       "      <td>의복의류</td>\n",
       "      <td>D05A01</td>\n",
       "      <td>일반의류</td>\n",
       "      <td>G47416</td>\n",
       "      <td>...</td>\n",
       "      <td>2650010500101480004001694</td>\n",
       "      <td>비치아파트</td>\n",
       "      <td>부산광역시 수영구 광안해변로 100</td>\n",
       "      <td>613751.0</td>\n",
       "      <td>48305.0</td>\n",
       "      <td>NaN</td>\n",
       "      <td>NaN</td>\n",
       "      <td>NaN</td>\n",
       "      <td>129.115397</td>\n",
       "      <td>35.143770</td>\n",
       "    </tr>\n",
       "    <tr>\n",
       "      <th>3</th>\n",
       "      <td>17174094</td>\n",
       "      <td>도란도란</td>\n",
       "      <td>NaN</td>\n",
       "      <td>Q</td>\n",
       "      <td>음식</td>\n",
       "      <td>Q01</td>\n",
       "      <td>한식</td>\n",
       "      <td>Q01A01</td>\n",
       "      <td>한식/백반/한정식</td>\n",
       "      <td>I56111</td>\n",
       "      <td>...</td>\n",
       "      <td>2623011100101740004050547</td>\n",
       "      <td>NaN</td>\n",
       "      <td>부산광역시 부산진구 가야대로482번길 29-3</td>\n",
       "      <td>614813.0</td>\n",
       "      <td>47327.0</td>\n",
       "      <td>NaN</td>\n",
       "      <td>NaN</td>\n",
       "      <td>NaN</td>\n",
       "      <td>129.024938</td>\n",
       "      <td>35.151645</td>\n",
       "    </tr>\n",
       "    <tr>\n",
       "      <th>4</th>\n",
       "      <td>21683903</td>\n",
       "      <td>럭키사진관</td>\n",
       "      <td>NaN</td>\n",
       "      <td>F</td>\n",
       "      <td>생활서비스</td>\n",
       "      <td>F06</td>\n",
       "      <td>사진</td>\n",
       "      <td>F06A01</td>\n",
       "      <td>사진관</td>\n",
       "      <td>M73301</td>\n",
       "      <td>...</td>\n",
       "      <td>2638010200103250030010858</td>\n",
       "      <td>NaN</td>\n",
       "      <td>부산광역시 사하구 낙동대로 395</td>\n",
       "      <td>604830.0</td>\n",
       "      <td>49411.0</td>\n",
       "      <td>NaN</td>\n",
       "      <td>1</td>\n",
       "      <td>NaN</td>\n",
       "      <td>128.974794</td>\n",
       "      <td>35.102905</td>\n",
       "    </tr>\n",
       "  </tbody>\n",
       "</table>\n",
       "<p>5 rows × 39 columns</p>\n",
       "</div>"
      ],
      "text/plain": [
       "     상가업소번호    상호명  지점명 상권업종대분류코드 상권업종대분류명 상권업종중분류코드   상권업종중분류명 상권업종소분류코드  \\\n",
       "0  23206623    미광장  NaN         O       숙박       O02  모텔/여관/여인숙    O02A01   \n",
       "1  20418637  BHC치킨  동래점         Q       음식       Q05     닭/오리요리    Q05A08   \n",
       "2  24659633    스텔라  NaN         D       소매       D05       의복의류    D05A01   \n",
       "3  17174094   도란도란  NaN         Q       음식       Q01         한식    Q01A01   \n",
       "4  21683903  럭키사진관  NaN         F    생활서비스       F06         사진    F06A01   \n",
       "\n",
       "    상권업종소분류명 표준산업분류코드  ...                     건물관리번호    건물명  \\\n",
       "0  모텔/여관/여인숙   I55112  ...  2611012600100250001004473    NaN   \n",
       "1  후라이드/양념치킨   I56193  ...  2626010500101850000016529    NaN   \n",
       "2       일반의류   G47416  ...  2650010500101480004001694  비치아파트   \n",
       "3  한식/백반/한정식   I56111  ...  2623011100101740004050547    NaN   \n",
       "4        사진관   M73301  ...  2638010200103250030010858    NaN   \n",
       "\n",
       "                       도로명주소     구우편번호    신우편번호  동정보  층정보  호정보          경도  \\\n",
       "0        부산광역시 중구 보수대로44번길 5  600074.0  48974.0  NaN  NaN  NaN  129.023668   \n",
       "1      부산광역시 동래구 동래로147번길 18  607020.0  47802.0  NaN  NaN  NaN  129.087156   \n",
       "2        부산광역시 수영구 광안해변로 100  613751.0  48305.0  NaN  NaN  NaN  129.115397   \n",
       "3  부산광역시 부산진구 가야대로482번길 29-3  614813.0  47327.0  NaN  NaN  NaN  129.024938   \n",
       "4         부산광역시 사하구 낙동대로 395  604830.0  49411.0  NaN    1  NaN  128.974794   \n",
       "\n",
       "          위도  \n",
       "0  35.100979  \n",
       "1  35.205267  \n",
       "2  35.143770  \n",
       "3  35.151645  \n",
       "4  35.102905  \n",
       "\n",
       "[5 rows x 39 columns]"
      ]
     },
     "execution_count": 31,
     "metadata": {},
     "output_type": "execute_result"
    }
   ],
   "source": [
    "df.head()"
   ]
  },
  {
   "cell_type": "code",
   "execution_count": 32,
   "id": "04aa5f5f",
   "metadata": {},
   "outputs": [
    {
     "data": {
      "text/html": [
       "<div>\n",
       "<style scoped>\n",
       "    .dataframe tbody tr th:only-of-type {\n",
       "        vertical-align: middle;\n",
       "    }\n",
       "\n",
       "    .dataframe tbody tr th {\n",
       "        vertical-align: top;\n",
       "    }\n",
       "\n",
       "    .dataframe thead th {\n",
       "        text-align: right;\n",
       "    }\n",
       "</style>\n",
       "<table border=\"1\" class=\"dataframe\">\n",
       "  <thead>\n",
       "    <tr style=\"text-align: right;\">\n",
       "      <th></th>\n",
       "      <th>상가업소번호</th>\n",
       "      <th>상호명</th>\n",
       "      <th>지점명</th>\n",
       "      <th>상권업종대분류코드</th>\n",
       "      <th>상권업종대분류명</th>\n",
       "      <th>상권업종중분류코드</th>\n",
       "      <th>상권업종중분류명</th>\n",
       "      <th>상권업종소분류코드</th>\n",
       "      <th>상권업종소분류명</th>\n",
       "      <th>표준산업분류코드</th>\n",
       "      <th>...</th>\n",
       "      <th>건물관리번호</th>\n",
       "      <th>건물명</th>\n",
       "      <th>도로명주소</th>\n",
       "      <th>구우편번호</th>\n",
       "      <th>신우편번호</th>\n",
       "      <th>동정보</th>\n",
       "      <th>층정보</th>\n",
       "      <th>호정보</th>\n",
       "      <th>경도</th>\n",
       "      <th>위도</th>\n",
       "    </tr>\n",
       "  </thead>\n",
       "  <tbody>\n",
       "    <tr>\n",
       "      <th>116386</th>\n",
       "      <td>19075208</td>\n",
       "      <td>동인심리상담center</td>\n",
       "      <td>NaN</td>\n",
       "      <td>D</td>\n",
       "      <td>소매</td>\n",
       "      <td>D02</td>\n",
       "      <td>선물/팬시/기념품</td>\n",
       "      <td>D02A02</td>\n",
       "      <td>꽃집/꽃배달</td>\n",
       "      <td>G47851</td>\n",
       "      <td>...</td>\n",
       "      <td>4511112900100230035026753</td>\n",
       "      <td>NaN</td>\n",
       "      <td>전라북도 전주시 완산구 백제대로 394</td>\n",
       "      <td>560818.0</td>\n",
       "      <td>54941.0</td>\n",
       "      <td>NaN</td>\n",
       "      <td>2</td>\n",
       "      <td>NaN</td>\n",
       "      <td>127.123165</td>\n",
       "      <td>35.828304</td>\n",
       "    </tr>\n",
       "    <tr>\n",
       "      <th>116387</th>\n",
       "      <td>19077390</td>\n",
       "      <td>학원</td>\n",
       "      <td>올리바</td>\n",
       "      <td>R</td>\n",
       "      <td>학문/교육</td>\n",
       "      <td>R01</td>\n",
       "      <td>학원-보습교습입시</td>\n",
       "      <td>R01A01</td>\n",
       "      <td>학원-입시</td>\n",
       "      <td>P85501</td>\n",
       "      <td>...</td>\n",
       "      <td>4514011100102050003072950</td>\n",
       "      <td>NaN</td>\n",
       "      <td>전라북도 익산시 서동로24길 31-30</td>\n",
       "      <td>570958.0</td>\n",
       "      <td>54607.0</td>\n",
       "      <td>NaN</td>\n",
       "      <td>NaN</td>\n",
       "      <td>NaN</td>\n",
       "      <td>126.962503</td>\n",
       "      <td>35.930637</td>\n",
       "    </tr>\n",
       "    <tr>\n",
       "      <th>116388</th>\n",
       "      <td>19078173</td>\n",
       "      <td>싹독</td>\n",
       "      <td>NaN</td>\n",
       "      <td>D</td>\n",
       "      <td>소매</td>\n",
       "      <td>D09</td>\n",
       "      <td>애견/애완/동물</td>\n",
       "      <td>D09A02</td>\n",
       "      <td>애완동물 미용실</td>\n",
       "      <td>S96995</td>\n",
       "      <td>...</td>\n",
       "      <td>4514012300106350007058639</td>\n",
       "      <td>하우스가든</td>\n",
       "      <td>전라북도 익산시 하나로8길 2</td>\n",
       "      <td>570210.0</td>\n",
       "      <td>54553.0</td>\n",
       "      <td>NaN</td>\n",
       "      <td>NaN</td>\n",
       "      <td>NaN</td>\n",
       "      <td>126.982744</td>\n",
       "      <td>35.959597</td>\n",
       "    </tr>\n",
       "    <tr>\n",
       "      <th>116389</th>\n",
       "      <td>19079588</td>\n",
       "      <td>이마트</td>\n",
       "      <td>24정읍센트럴점</td>\n",
       "      <td>D</td>\n",
       "      <td>소매</td>\n",
       "      <td>D03</td>\n",
       "      <td>종합소매점</td>\n",
       "      <td>D03A01</td>\n",
       "      <td>편의점</td>\n",
       "      <td>G47122</td>\n",
       "      <td>...</td>\n",
       "      <td>4518010400101050005010679</td>\n",
       "      <td>시기동영무예다음아파트</td>\n",
       "      <td>전라북도 정읍시 시기4길 42</td>\n",
       "      <td>580063.0</td>\n",
       "      <td>56204.0</td>\n",
       "      <td>114</td>\n",
       "      <td>NaN</td>\n",
       "      <td>NaN</td>\n",
       "      <td>126.862016</td>\n",
       "      <td>35.556156</td>\n",
       "    </tr>\n",
       "    <tr>\n",
       "      <th>116390</th>\n",
       "      <td>19080582</td>\n",
       "      <td>디엔디</td>\n",
       "      <td>NaN</td>\n",
       "      <td>F</td>\n",
       "      <td>생활서비스</td>\n",
       "      <td>F07</td>\n",
       "      <td>물품기기대여</td>\n",
       "      <td>F07A02</td>\n",
       "      <td>오락/스포츠용품대여</td>\n",
       "      <td>L69210</td>\n",
       "      <td>...</td>\n",
       "      <td>4573032029105820000000990</td>\n",
       "      <td>NaN</td>\n",
       "      <td>전라북도 무주군 설천면 만선로 45</td>\n",
       "      <td>568811.0</td>\n",
       "      <td>55555.0</td>\n",
       "      <td>NaN</td>\n",
       "      <td>NaN</td>\n",
       "      <td>NaN</td>\n",
       "      <td>127.755954</td>\n",
       "      <td>35.909004</td>\n",
       "    </tr>\n",
       "  </tbody>\n",
       "</table>\n",
       "<p>5 rows × 39 columns</p>\n",
       "</div>"
      ],
      "text/plain": [
       "          상가업소번호           상호명       지점명 상권업종대분류코드 상권업종대분류명 상권업종중분류코드  \\\n",
       "116386  19075208  동인심리상담center       NaN         D       소매       D02   \n",
       "116387  19077390            학원       올리바         R    학문/교육       R01   \n",
       "116388  19078173            싹독       NaN         D       소매       D09   \n",
       "116389  19079588           이마트  24정읍센트럴점         D       소매       D03   \n",
       "116390  19080582           디엔디       NaN         F    생활서비스       F07   \n",
       "\n",
       "         상권업종중분류명 상권업종소분류코드    상권업종소분류명 표준산업분류코드  ...  \\\n",
       "116386  선물/팬시/기념품    D02A02      꽃집/꽃배달   G47851  ...   \n",
       "116387  학원-보습교습입시    R01A01       학원-입시   P85501  ...   \n",
       "116388   애견/애완/동물    D09A02    애완동물 미용실   S96995  ...   \n",
       "116389      종합소매점    D03A01         편의점   G47122  ...   \n",
       "116390     물품기기대여    F07A02  오락/스포츠용품대여   L69210  ...   \n",
       "\n",
       "                           건물관리번호          건물명                  도로명주소  \\\n",
       "116386  4511112900100230035026753          NaN  전라북도 전주시 완산구 백제대로 394   \n",
       "116387  4514011100102050003072950          NaN  전라북도 익산시 서동로24길 31-30   \n",
       "116388  4514012300106350007058639        하우스가든       전라북도 익산시 하나로8길 2   \n",
       "116389  4518010400101050005010679  시기동영무예다음아파트       전라북도 정읍시 시기4길 42   \n",
       "116390  4573032029105820000000990          NaN    전라북도 무주군 설천면 만선로 45   \n",
       "\n",
       "           구우편번호    신우편번호  동정보  층정보  호정보          경도         위도  \n",
       "116386  560818.0  54941.0  NaN    2  NaN  127.123165  35.828304  \n",
       "116387  570958.0  54607.0  NaN  NaN  NaN  126.962503  35.930637  \n",
       "116388  570210.0  54553.0  NaN  NaN  NaN  126.982744  35.959597  \n",
       "116389  580063.0  56204.0  114  NaN  NaN  126.862016  35.556156  \n",
       "116390  568811.0  55555.0  NaN  NaN  NaN  127.755954  35.909004  \n",
       "\n",
       "[5 rows x 39 columns]"
      ]
     },
     "execution_count": 32,
     "metadata": {},
     "output_type": "execute_result"
    }
   ],
   "source": [
    "df.tail()"
   ]
  },
  {
   "cell_type": "code",
   "execution_count": 33,
   "id": "0d2b9f14",
   "metadata": {},
   "outputs": [
    {
     "name": "stdout",
     "output_type": "stream",
     "text": [
      "<class 'pandas.core.frame.DataFrame'>\n",
      "Int64Index: 2532877 entries, 0 to 116390\n",
      "Data columns (total 39 columns):\n",
      " #   Column     Dtype  \n",
      "---  ------     -----  \n",
      " 0   상가업소번호     int64  \n",
      " 1   상호명        object \n",
      " 2   지점명        object \n",
      " 3   상권업종대분류코드  object \n",
      " 4   상권업종대분류명   object \n",
      " 5   상권업종중분류코드  object \n",
      " 6   상권업종중분류명   object \n",
      " 7   상권업종소분류코드  object \n",
      " 8   상권업종소분류명   object \n",
      " 9   표준산업분류코드   object \n",
      " 10  표준산업분류명    object \n",
      " 11  시도코드       int64  \n",
      " 12  시도명        object \n",
      " 13  시군구코드      int64  \n",
      " 14  시군구명       object \n",
      " 15  행정동코드      int64  \n",
      " 16  행정동명       object \n",
      " 17  법정동코드      int64  \n",
      " 18  법정동명       object \n",
      " 19  지번코드       int64  \n",
      " 20  대지구분코드     int64  \n",
      " 21  대지구분명      object \n",
      " 22  지번본번지      int64  \n",
      " 23  지번부번지      float64\n",
      " 24  지번주소       object \n",
      " 25  도로명코드      int64  \n",
      " 26  도로명        object \n",
      " 27  건물본번지      int64  \n",
      " 28  건물부번지      float64\n",
      " 29  건물관리번호     object \n",
      " 30  건물명        object \n",
      " 31  도로명주소      object \n",
      " 32  구우편번호      float64\n",
      " 33  신우편번호      float64\n",
      " 34  동정보        object \n",
      " 35  층정보        object \n",
      " 36  호정보        float64\n",
      " 37  경도         float64\n",
      " 38  위도         float64\n",
      "dtypes: float64(7), int64(10), object(22)\n",
      "memory usage: 773.0+ MB\n"
     ]
    }
   ],
   "source": [
    "df.info()"
   ]
  }
 ],
 "metadata": {
  "kernelspec": {
   "display_name": "Python 3 (ipykernel)",
   "language": "python",
   "name": "python3"
  },
  "language_info": {
   "codemirror_mode": {
    "name": "ipython",
    "version": 3
   },
   "file_extension": ".py",
   "mimetype": "text/x-python",
   "name": "python",
   "nbconvert_exporter": "python",
   "pygments_lexer": "ipython3",
   "version": "3.9.13"
  }
 },
 "nbformat": 4,
 "nbformat_minor": 5
}
