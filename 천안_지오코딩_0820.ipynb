{
  "nbformat": 4,
  "nbformat_minor": 0,
  "metadata": {
    "colab": {
      "private_outputs": true,
      "provenance": []
    },
    "kernelspec": {
      "name": "python3",
      "display_name": "Python 3"
    },
    "language_info": {
      "name": "python"
    }
  },
  "cells": [
    {
      "cell_type": "code",
      "execution_count": null,
      "metadata": {
        "id": "elfgyzau1OXZ"
      },
      "outputs": [],
      "source": [
        "import pandas as pd\n",
        "import geopandas as gpd\n",
        "import requests\n",
        "import json\n",
        "import pandas as pd\n",
        "import numpy as np\n",
        "import time\n",
        "import os\n",
        "\n",
        "try :\n",
        "    import xmltodict\n",
        "except :\n",
        "    !pip install xmltodict\n",
        "    import xmltodict"
      ]
    },
    {
      "cell_type": "markdown",
      "source": [
        "### 1. 지오코딩"
      ],
      "metadata": {
        "id": "kNLi7aUCFFKf"
      }
    },
    {
      "cell_type": "code",
      "source": [
        "df = pd.read_excel(\"/content/drive/MyDrive/Colab Notebooks/공모전/천안시/지오코딩 데이터_천안.xlsx\")\n",
        "df.head()"
      ],
      "metadata": {
        "id": "aN2ppNr8FG1y"
      },
      "execution_count": null,
      "outputs": []
    },
    {
      "cell_type": "code",
      "source": [
        "df = pd.read_excel(\"/content/drive/MyDrive/Colab Notebooks/공모전/천안시/지오코딩 데이터_천안.xlsx\")\n",
        "df.head()"
      ],
      "metadata": {
        "id": "KN-GiL4rKQJg"
      },
      "execution_count": null,
      "outputs": []
    },
    {
      "cell_type": "code",
      "source": [
        "df_1 = df.drop_duplicates('지번주소', keep='first').reset_index(drop=True)\n",
        "df_1"
      ],
      "metadata": {
        "id": "Nm6mTX7Hwxhl"
      },
      "execution_count": null,
      "outputs": []
    },
    {
      "cell_type": "code",
      "source": [
        "from urllib.request import urlopen\n",
        "from urllib import parse\n",
        "from urllib.request import Request\n",
        "from urllib.error import HTTPError\n",
        "from bs4 import BeautifulSoup"
      ],
      "metadata": {
        "id": "l0jhRkt0WyMb"
      },
      "execution_count": null,
      "outputs": []
    },
    {
      "cell_type": "code",
      "source": [
        "client_id = 'm5pfmpajew'                                    ##### 제 개인 client_ID, PW입니당...^^... 사용하실 땐 ID/PW를 바꿔주십쇼 #####\n",
        "client_pw = 'tRnwWCDO9RrCMdnFHg8MrVFpCKOqrwsuu19YaVp2'      ##### 제 개인 client_ID, PW입니당...^^... 사용하실 땐 ID/PW를 바꿔주십쇼 #####\n",
        "\n",
        "api_url = 'https://naveropenapi.apigw.ntruss.com/map-geocode/v2/geocode?query='"
      ],
      "metadata": {
        "id": "qiOX0baBFwaT"
      },
      "execution_count": null,
      "outputs": []
    },
    {
      "cell_type": "code",
      "source": [
        "geo_coordi_list = []\n",
        "road_add_list = []\n",
        "jibun_add_list = []\n",
        "address_ele_lit = []\n",
        "i = 0\n",
        "start_time = time.time()\n",
        "\n",
        "for add in df_1['지번주소']:\n",
        "    add_urlenc = parse.quote(add)\n",
        "    url = api_url + add_urlenc\n",
        "    request = Request(url)\n",
        "    request.add_header('X-NCP-APIGW-API-KEY-ID', client_id)\n",
        "    request.add_header('X-NCP-APIGW-API-KEY', client_pw)\n",
        "\n",
        "    try:\n",
        "        response = urlopen(request)\n",
        "    except HTTPError as e:\n",
        "        print('HTTP Error!!')\n",
        "        latitude = None\n",
        "        longitude = None\n",
        "    else:\n",
        "        rescode = response.getcode() # 정상이면 200 리턴\n",
        "        if rescode == 200:\n",
        "            response_body = response.read().decode('utf-8')\n",
        "            response_body = json.loads(response_body)\n",
        "            if 'addresses' in response_body:\n",
        "                try:\n",
        "                    road_address = response_body['addresses'][0]['roadAddress']\n",
        "                    jibun_address = response_body['addresses'][0]['jibunAddress']\n",
        "                    #address_elements = response_body['addresses'][0]['addressElements']\n",
        "                    latitude = response_body['addresses'][0]['y']\n",
        "                    longitude = response_body['addresses'][0]['x']\n",
        "                    if i%100 == 0:\n",
        "                        print('100 results Success!')\n",
        "                except:\n",
        "                    road_address = None\n",
        "                    jibun_address = None\n",
        "                    #address_elements = None\n",
        "                    latitude = None\n",
        "                    longitude = None\n",
        "            else:\n",
        "                print('resulut not exist!')\n",
        "                road_address = None\n",
        "                jibun_address = None\n",
        "                #address_elements = None\n",
        "                latitude = None\n",
        "                longitude = None\n",
        "        else:\n",
        "            print(f'Response error code: {rescode}')\n",
        "            road_address = None\n",
        "            jibun_address = None\n",
        "            #address_elements = None\n",
        "            latitude = None\n",
        "            longitude = None\n",
        "\n",
        "    geo_coordi_list.append([latitude, longitude])\n",
        "    road_add_list.append(road_address)\n",
        "    jibun_add_list.append(jibun_address)\n",
        "    i += 1\n",
        "\n",
        "print(f\"총 소요시간: f{time.time() - start_time: .2f}s\")"
      ],
      "metadata": {
        "collapsed": true,
        "id": "C6tWHUI1Zyvk"
      },
      "execution_count": null,
      "outputs": []
    },
    {
      "cell_type": "code",
      "source": [
        "len(geo_coordi_list)"
      ],
      "metadata": {
        "id": "0daFCiuBnain"
      },
      "execution_count": null,
      "outputs": []
    },
    {
      "cell_type": "code",
      "source": [
        "np_geo_coordi = np.array(geo_coordi_list)\n",
        "df_geo = df_1.copy() # 깊복.. 깊은복사\n",
        "\n",
        "df_geo['road_address'] = road_add_list\n",
        "df_geo['jibun_address'] = jibun_add_list\n",
        "df_geo['latitude'] = np_geo_coordi[:, 0]\n",
        "df_geo['longitude'] = np_geo_coordi[:, 1]\n",
        "df_geo"
      ],
      "metadata": {
        "id": "uTmAEsdDbtHm"
      },
      "execution_count": null,
      "outputs": []
    },
    {
      "cell_type": "code",
      "source": [
        "# os.getcwd()"
      ],
      "metadata": {
        "id": "01kv_TY-WjU8"
      },
      "execution_count": null,
      "outputs": []
    },
    {
      "cell_type": "code",
      "source": [
        "# os.listdir('/content/drive/MyDrive/Colab Notebooks')\n",
        "# df_geo.to_csv('/content/drive/MyDrive/Colab Notebooks/공모전/천안시/천안시_지오코딩 데이터_추가_0820.csv', encoding = 'utf-8-sig', index = False)"
      ],
      "metadata": {
        "id": "-G_3-2hCWLzo"
      },
      "execution_count": null,
      "outputs": []
    },
    {
      "cell_type": "markdown",
      "source": [
        "### 2. 법정동 매핑"
      ],
      "metadata": {
        "id": "X1oiXdEQFQ8h"
      }
    },
    {
      "cell_type": "markdown",
      "source": [
        "좌표 위치 + shp polygon 조인"
      ],
      "metadata": {
        "id": "BOctz5-2FbIC"
      }
    },
    {
      "cell_type": "code",
      "source": [
        "cheon_shp = gpd.read_file('/content/drive/MyDrive/Colab Notebooks/공모전/천안시/천안 shp/cheon_.shp', encoding='utf-8')\n",
        "# df = pd.read_csv('/content/drive/MyDrive/Colab Notebooks/공모전/천안시/천안시_지오코딩 데이터_추가_0820.csv', encoding='utf-8-sig')\n",
        "df = df_geo.copy()"
      ],
      "metadata": {
        "id": "Lvp6SypH1Vrl"
      },
      "execution_count": null,
      "outputs": []
    },
    {
      "cell_type": "code",
      "source": [
        "df.head()"
      ],
      "metadata": {
        "id": "Z7aBbqg75Ef0"
      },
      "execution_count": null,
      "outputs": []
    },
    {
      "cell_type": "code",
      "source": [
        "cheon_shp.head()"
      ],
      "metadata": {
        "id": "1f6JXsMj5ttP"
      },
      "execution_count": null,
      "outputs": []
    },
    {
      "cell_type": "code",
      "source": [
        "cheon_shp.plot(color='gray', edgecolor=\"w\")"
      ],
      "metadata": {
        "id": "tHl1bBK88xdp"
      },
      "execution_count": null,
      "outputs": []
    },
    {
      "cell_type": "code",
      "source": [
        "df['geometry'] = gpd.points_from_xy(df.longitude, df.latitude, crs=\"EPSG:4326\")\n",
        "geo_df = gpd.GeoDataFrame(data=df, geometry='geometry')\n",
        "geo_df = geo_df.to_crs(epsg=5181)"
      ],
      "metadata": {
        "id": "c0e9f_EY2B9B"
      },
      "execution_count": null,
      "outputs": []
    },
    {
      "cell_type": "code",
      "source": [
        "geo_df_2 = gpd.sjoin(left_df=geo_df, right_df=cheon_shp, how='left', predicate='within')\n",
        "# crashes2.to_file(r'/home/bera/Desktop/crashes_with_wards.gpkg')\n",
        "geo_df_2"
      ],
      "metadata": {
        "id": "rEPFfaxH6wC3"
      },
      "execution_count": null,
      "outputs": []
    },
    {
      "cell_type": "code",
      "source": [
        "fin_df = pd.DataFrame(geo_df_2)[['지번주소', 'road_address', 'jibun_address', 'latitude', 'longitude', 'ADM_CD', 'ADM_NM']]\n",
        "fin_df.head()"
      ],
      "metadata": {
        "id": "qEnP71l6-GrC"
      },
      "execution_count": null,
      "outputs": []
    },
    {
      "cell_type": "code",
      "source": [
        "fin_df.to_csv('/content/drive/MyDrive/Colab Notebooks/공모전/천안시/행정동 추가_0820.csv', encoding = 'utf-8-sig', index = False)"
      ],
      "metadata": {
        "id": "Cua-sH0J97CV"
      },
      "execution_count": null,
      "outputs": []
    }
  ]
}